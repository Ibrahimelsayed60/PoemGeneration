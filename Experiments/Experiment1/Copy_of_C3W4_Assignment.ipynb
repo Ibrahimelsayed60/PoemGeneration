{
  "cells": [
    {
      "cell_type": "markdown",
      "metadata": {
        "id": "bFWbEb6uGbN-"
      },
      "source": [
        "# Week 4: Predicting the next word\n",
        "\n",
        "Welcome to this assignment! During this week you saw how to create a model that will predict the next word in a text sequence, now you will implement such model and train it using a corpus of Shakespeare's sonnets, while also creating some helper functions to pre-process the data.\n",
        "\n",
        "\n",
        "Let's get started!"
      ]
    },
    {
      "cell_type": "markdown",
      "metadata": {
        "id": "Cp4A-ZBwSN11"
      },
      "source": [
        "_**NOTE:** To prevent errors from the autograder, pleave avoid editing or deleting non-graded cells in this notebook . Please only put your solutions in between the `### START CODE HERE` and `### END CODE HERE` code comments, and also refrain from adding any new cells._"
      ]
    },
    {
      "cell_type": "code",
      "execution_count": 1,
      "metadata": {
        "deletable": false,
        "editable": false,
        "id": "BOwsuGQQY9OL",
        "tags": [
          "graded"
        ]
      },
      "outputs": [],
      "source": [
        "# grader-required-cell\n",
        "\n",
        "import numpy as np \n",
        "import matplotlib.pyplot as plt\n",
        "from tensorflow.keras.models import Sequential\n",
        "from tensorflow.keras.utils import to_categorical \n",
        "from tensorflow.keras.preprocessing.text import Tokenizer\n",
        "from tensorflow.keras.preprocessing.sequence import pad_sequences\n",
        "from tensorflow.keras.layers import Embedding, LSTM, Dense, Bidirectional"
      ]
    },
    {
      "cell_type": "markdown",
      "metadata": {
        "id": "BTxqlHqKHzhr"
      },
      "source": [
        "For this assignment you will be using the [Shakespeare Sonnets Dataset](https://www.opensourceshakespeare.org/views/sonnets/sonnet_view.php?range=viewrange&sonnetrange1=1&sonnetrange2=154), which contains more than 2000 lines of text extracted from Shakespeare's sonnets."
      ]
    },
    {
      "cell_type": "code",
      "execution_count": 2,
      "metadata": {
        "deletable": false,
        "editable": false,
        "id": "WZ4qOUzujMP6",
        "tags": [
          "graded"
        ],
        "colab": {
          "base_uri": "https://localhost:8080/"
        },
        "outputId": "6a74b3fb-ad82-4510-84b0-4050de74e891"
      },
      "outputs": [
        {
          "output_type": "stream",
          "name": "stdout",
          "text": [
            "/usr/local/lib/python3.8/dist-packages/gdown/cli.py:127: FutureWarning: Option `--id` was deprecated in version 4.3.1 and will be removed in 5.0. You don't need to pass it anymore to use a file ID.\n",
            "  warnings.warn(\n",
            "Downloading...\n",
            "From: https://drive.google.com/uc?id=108jAePKK4R3BVYBbYJZ32JWUwxeMg20K\n",
            "To: /content/sonnets.txt\n",
            "100% 93.6k/93.6k [00:00<00:00, 78.2MB/s]\n"
          ]
        }
      ],
      "source": [
        "# grader-required-cell\n",
        "\n",
        "# sonnets.txt\n",
        "!gdown --id 108jAePKK4R3BVYBbYJZ32JWUwxeMg20K"
      ]
    },
    {
      "cell_type": "code",
      "execution_count": 3,
      "metadata": {
        "deletable": false,
        "editable": false,
        "id": "Pfd-nYKij5yY",
        "tags": [
          "graded"
        ],
        "colab": {
          "base_uri": "https://localhost:8080/"
        },
        "outputId": "072f67e8-f982-4278-92a0-57153f954372"
      },
      "outputs": [
        {
          "output_type": "stream",
          "name": "stdout",
          "text": [
            "There are 2159 lines of sonnets\n",
            "\n",
            "The first 5 lines look like this:\n",
            "\n",
            "from fairest creatures we desire increase,\n",
            "that thereby beauty's rose might never die,\n",
            "but as the riper should by time decease,\n",
            "his tender heir might bear his memory:\n",
            "but thou, contracted to thine own bright eyes,\n"
          ]
        }
      ],
      "source": [
        "# grader-required-cell\n",
        "\n",
        "# Define path for file with sonnets\n",
        "SONNETS_FILE = './sonnets.txt'\n",
        "\n",
        "# Read the data\n",
        "with open('./sonnets.txt') as f:\n",
        "    data = f.read()\n",
        "\n",
        "# Convert to lower case and save as a list\n",
        "corpus = data.lower().split(\"\\n\")\n",
        "\n",
        "print(f\"There are {len(corpus)} lines of sonnets\\n\")\n",
        "print(f\"The first 5 lines look like this:\\n\")\n",
        "for i in range(5):\n",
        "  print(corpus[i])"
      ]
    },
    {
      "cell_type": "markdown",
      "metadata": {
        "id": "imB15zrSNhA1"
      },
      "source": [
        "## Tokenizing the text\n",
        "\n",
        "Now fit the Tokenizer to the corpus and save the total number of words."
      ]
    },
    {
      "cell_type": "code",
      "execution_count": 4,
      "metadata": {
        "deletable": false,
        "editable": false,
        "id": "AAhM_qAZk0o5",
        "tags": [
          "graded"
        ]
      },
      "outputs": [],
      "source": [
        "# grader-required-cell\n",
        "\n",
        "tokenizer = Tokenizer()\n",
        "tokenizer.fit_on_texts(corpus)\n",
        "total_words = len(tokenizer.word_index) + 1"
      ]
    },
    {
      "cell_type": "markdown",
      "metadata": {
        "id": "77-0sA46OETa"
      },
      "source": [
        "When converting the text into sequences you can use the `texts_to_sequences` method as you have done throughout this course.\n",
        "\n",
        "In the next graded function you will need to process this corpus one line at a time. Given this, it is important to keep in mind that the way you are feeding the data unto this method affects the result. Check the following example to make this clearer.\n",
        "\n",
        "The first example of the corpus is a string and looks like this:"
      ]
    },
    {
      "cell_type": "code",
      "execution_count": 5,
      "metadata": {
        "deletable": false,
        "editable": false,
        "id": "tqhPxdeXlfjh",
        "tags": [
          "graded"
        ],
        "colab": {
          "base_uri": "https://localhost:8080/",
          "height": 35
        },
        "outputId": "41c19a03-baa7-431a-b4f5-3c783cfdda4d"
      },
      "outputs": [
        {
          "output_type": "execute_result",
          "data": {
            "text/plain": [
              "'from fairest creatures we desire increase,'"
            ],
            "application/vnd.google.colaboratory.intrinsic+json": {
              "type": "string"
            }
          },
          "metadata": {},
          "execution_count": 5
        }
      ],
      "source": [
        "# grader-required-cell\n",
        "\n",
        "corpus[0]"
      ]
    },
    {
      "cell_type": "code",
      "source": [
        "corpus"
      ],
      "metadata": {
        "colab": {
          "base_uri": "https://localhost:8080/"
        },
        "id": "s2YT-NUSPh7c",
        "outputId": "a447e459-cf26-4810-fd90-e99351d6e216"
      },
      "execution_count": 9,
      "outputs": [
        {
          "output_type": "execute_result",
          "data": {
            "text/plain": [
              "['from fairest creatures we desire increase,',\n",
              " \"that thereby beauty's rose might never die,\",\n",
              " 'but as the riper should by time decease,',\n",
              " 'his tender heir might bear his memory:',\n",
              " 'but thou, contracted to thine own bright eyes,',\n",
              " \"feed'st thy light'st flame with self-substantial fuel,\",\n",
              " 'making a famine where abundance lies,',\n",
              " 'thyself thy foe, to thy sweet self too cruel.',\n",
              " \"thou that art now the world's fresh ornament\",\n",
              " 'and only herald to the gaudy spring,',\n",
              " 'within thine own bud buriest thy content',\n",
              " 'and, tender churl, makest waste in niggarding.',\n",
              " 'pity the world, or else this glutton be,',\n",
              " \"to eat the world's due, by the grave and thee.\",\n",
              " 'when forty winters shall beseige thy brow,',\n",
              " \"and dig deep trenches in thy beauty's field,\",\n",
              " \"thy youth's proud livery, so gazed on now,\",\n",
              " \"will be a tatter'd weed, of small worth held:\",\n",
              " \"then being ask'd where all thy beauty lies,\",\n",
              " 'where all the treasure of thy lusty days,',\n",
              " 'to say, within thine own deep-sunken eyes,',\n",
              " 'were an all-eating shame and thriftless praise.',\n",
              " \"how much more praise deserved thy beauty's use,\",\n",
              " \"if thou couldst answer 'this fair child of mine\",\n",
              " \"shall sum my count and make my old excuse,'\",\n",
              " 'proving his beauty by succession thine!',\n",
              " 'this were to be new made when thou art old,',\n",
              " \"and see thy blood warm when thou feel'st it cold.\",\n",
              " 'look in thy glass, and tell the face thou viewest',\n",
              " 'now is the time that face should form another;',\n",
              " 'whose fresh repair if now thou not renewest,',\n",
              " 'thou dost beguile the world, unbless some mother.',\n",
              " \"for where is she so fair whose unear'd womb\",\n",
              " 'disdains the tillage of thy husbandry?',\n",
              " 'or who is he so fond will be the tomb',\n",
              " 'of his self-love, to stop posterity?',\n",
              " \"thou art thy mother's glass, and she in thee\",\n",
              " 'calls back the lovely april of her prime:',\n",
              " 'so thou through windows of thine age shall see',\n",
              " 'despite of wrinkles this thy golden time.',\n",
              " \"but if thou live, remember'd not to be,\",\n",
              " 'die single, and thine image dies with thee.',\n",
              " 'unthrifty loveliness, why dost thou spend',\n",
              " \"upon thyself thy beauty's legacy?\",\n",
              " \"nature's bequest gives nothing but doth lend,\",\n",
              " 'and being frank she lends to those are free.',\n",
              " 'then, beauteous niggard, why dost thou abuse',\n",
              " 'the bounteous largess given thee to give?',\n",
              " 'profitless usurer, why dost thou use',\n",
              " 'so great a sum of sums, yet canst not live?',\n",
              " 'for having traffic with thyself alone,',\n",
              " 'thou of thyself thy sweet self dost deceive.',\n",
              " 'then how, when nature calls thee to be gone,',\n",
              " 'what acceptable audit canst thou leave?',\n",
              " \"thy unused beauty must be tomb'd with thee,\",\n",
              " \"which, used, lives th' executor to be.\",\n",
              " 'those hours, that with gentle work did frame',\n",
              " 'the lovely gaze where every eye doth dwell,',\n",
              " 'will play the tyrants to the very same',\n",
              " 'and that unfair which fairly doth excel:',\n",
              " 'for never-resting time leads summer on',\n",
              " 'to hideous winter and confounds him there;',\n",
              " \"sap check'd with frost and lusty leaves quite gone,\",\n",
              " \"beauty o'ersnow'd and bareness every where:\",\n",
              " \"then, were not summer's distillation left,\",\n",
              " 'a liquid prisoner pent in walls of glass,',\n",
              " \"beauty's effect with beauty were bereft,\",\n",
              " 'nor it nor no remembrance what it was:',\n",
              " \"but flowers distill'd though they with winter meet,\",\n",
              " 'leese but their show; their substance still lives sweet.',\n",
              " \"then let not winter's ragged hand deface\",\n",
              " \"in thee thy summer, ere thou be distill'd:\",\n",
              " 'make sweet some vial; treasure thou some place',\n",
              " \"with beauty's treasure, ere it be self-kill'd.\",\n",
              " 'that use is not forbidden usury,',\n",
              " 'which happies those that pay the willing loan;',\n",
              " \"that's for thyself to breed another thee,\",\n",
              " 'or ten times happier, be it ten for one;',\n",
              " 'ten times thyself were happier than thou art,',\n",
              " 'if ten of thine ten times refigured thee:',\n",
              " 'then what could death do, if thou shouldst depart,',\n",
              " 'leaving thee living in posterity?',\n",
              " \"be not self-will'd, for thou art much too fair\",\n",
              " \"to be death's conquest and make worms thine heir.\",\n",
              " 'lo! in the orient when the gracious light',\n",
              " 'lifts up his burning head, each under eye',\n",
              " 'doth homage to his new-appearing sight,',\n",
              " 'serving with looks his sacred majesty;',\n",
              " \"and having climb'd the steep-up heavenly hill,\",\n",
              " 'resembling strong youth in his middle age,',\n",
              " 'yet mortal looks adore his beauty still,',\n",
              " 'attending on his golden pilgrimage;',\n",
              " 'but when from highmost pitch, with weary car,',\n",
              " 'like feeble age, he reeleth from the day,',\n",
              " \"the eyes, 'fore duteous, now converted are\",\n",
              " 'from his low tract and look another way:',\n",
              " 'so thou, thyself out-going in thy noon,',\n",
              " \"unlook'd on diest, unless thou get a son.\",\n",
              " \"music to hear, why hear'st thou music sadly?\",\n",
              " 'sweets with sweets war not, joy delights in joy.',\n",
              " 'why lovest thou that which thou receivest not gladly,',\n",
              " 'or else receivest with pleasure thine annoy?',\n",
              " 'if the true concord of well-tuned sounds,',\n",
              " 'by unions married, do offend thine ear,',\n",
              " 'they do but sweetly chide thee, who confounds',\n",
              " 'in singleness the parts that thou shouldst bear.',\n",
              " 'mark how one string, sweet husband to another,',\n",
              " 'strikes each in each by mutual ordering,',\n",
              " 'resembling sire and child and happy mother',\n",
              " 'who all in one, one pleasing note do sing:',\n",
              " 'whose speechless song, being many, seeming one,',\n",
              " \"sings this to thee: 'thou single wilt prove none.'\",\n",
              " \"is it for fear to wet a widow's eye\",\n",
              " 'that thou consumest thyself in single life?',\n",
              " 'ah! if thou issueless shalt hap to die.',\n",
              " 'the world will wail thee, like a makeless wife;',\n",
              " 'the world will be thy widow and still weep',\n",
              " 'that thou no form of thee hast left behind,',\n",
              " 'when every private widow well may keep',\n",
              " \"by children's eyes her husband's shape in mind.\",\n",
              " 'look, what an unthrift in the world doth spend',\n",
              " 'shifts but his place, for still the world enjoys it;',\n",
              " \"but beauty's waste hath in the world an end,\",\n",
              " 'and kept unused, the user so destroys it.',\n",
              " 'no love toward others in that bosom sits',\n",
              " 'that on himself such murderous shame commits.',\n",
              " \"for shame! deny that thou bear'st love to any,\",\n",
              " 'who for thyself art so unprovident.',\n",
              " 'grant, if thou wilt, thou art beloved of many,',\n",
              " 'but that thou none lovest is most evident;',\n",
              " \"for thou art so possess'd with murderous hate\",\n",
              " \"that 'gainst thyself thou stick'st not to conspire.\",\n",
              " 'seeking that beauteous roof to ruinate',\n",
              " 'which to repair should be thy chief desire.',\n",
              " 'o, change thy thought, that i may change my mind!',\n",
              " 'shall hate be fairer lodged than gentle love?',\n",
              " 'be, as thy presence is, gracious and kind,',\n",
              " 'or to thyself at least kind-hearted prove:',\n",
              " 'make thee another self, for love of me,',\n",
              " 'that beauty still may live in thine or thee.',\n",
              " 'as fast as thou shalt wane, so fast thou growest',\n",
              " 'in one of thine, from that which thou departest;',\n",
              " 'and that fresh blood which youngly thou bestowest',\n",
              " 'thou mayst call thine when thou from youth convertest.',\n",
              " 'herein lives wisdom, beauty and increase:',\n",
              " 'without this, folly, age and cold decay:',\n",
              " 'if all were minded so, the times should cease',\n",
              " 'and threescore year would make the world away.',\n",
              " 'let those whom nature hath not made for store,',\n",
              " 'harsh featureless and rude, barrenly perish:',\n",
              " \"look, whom she best endow'd she gave the more;\",\n",
              " 'which bounteous gift thou shouldst in bounty cherish:',\n",
              " 'she carved thee for her seal, and meant thereby',\n",
              " 'thou shouldst print more, not let that copy die.',\n",
              " 'when i do count the clock that tells the time,',\n",
              " 'and see the brave day sunk in hideous night;',\n",
              " 'when i behold the violet past prime,',\n",
              " \"and sable curls all silver'd o'er with white;\",\n",
              " 'when lofty trees i see barren of leaves',\n",
              " 'which erst from heat did canopy the herd,',\n",
              " \"and summer's green all girded up in sheaves\",\n",
              " 'borne on the bier with white and bristly beard,',\n",
              " 'then of thy beauty do i question make,',\n",
              " 'that thou among the wastes of time must go,',\n",
              " 'since sweets and beauties do themselves forsake',\n",
              " 'and die as fast as they see others grow;',\n",
              " \"and nothing 'gainst time's scythe can make defence\",\n",
              " 'save breed, to brave him when he takes thee hence.',\n",
              " 'o, that you were yourself! but, love, you are',\n",
              " 'no longer yours than you yourself here live:',\n",
              " 'against this coming end you should prepare,',\n",
              " 'and your sweet semblance to some other give.',\n",
              " 'so should that beauty which you hold in lease',\n",
              " 'find no determination: then you were',\n",
              " \"yourself again after yourself's decease,\",\n",
              " 'when your sweet issue your sweet form should bear.',\n",
              " 'who lets so fair a house fall to decay,',\n",
              " 'which husbandry in honour might uphold',\n",
              " \"against the stormy gusts of winter's day\",\n",
              " \"and barren rage of death's eternal cold?\",\n",
              " 'o, none but unthrifts! dear my love, you know',\n",
              " 'you had a father: let your son say so.',\n",
              " 'not from the stars do i my judgment pluck;',\n",
              " 'and yet methinks i have astronomy,',\n",
              " 'but not to tell of good or evil luck,',\n",
              " \"of plagues, of dearths, or seasons' quality;\",\n",
              " 'nor can i fortune to brief minutes tell,',\n",
              " 'pointing to each his thunder, rain and wind,',\n",
              " 'or say with princes if it shall go well,',\n",
              " 'by oft predict that i in heaven find:',\n",
              " 'but from thine eyes my knowledge i derive,',\n",
              " 'and, constant stars, in them i read such art',\n",
              " 'as truth and beauty shall together thrive,',\n",
              " 'if from thyself to store thou wouldst convert;',\n",
              " 'or else of thee this i prognosticate:',\n",
              " \"thy end is truth's and beauty's doom and date.\",\n",
              " 'when i consider every thing that grows',\n",
              " 'holds in perfection but a little moment,',\n",
              " 'that this huge stage presenteth nought but shows',\n",
              " 'whereon the stars in secret influence comment;',\n",
              " 'when i perceive that men as plants increase,',\n",
              " \"cheered and check'd even by the self-same sky,\",\n",
              " 'vaunt in their youthful sap, at height decrease,',\n",
              " 'and wear their brave state out of memory;',\n",
              " 'then the conceit of this inconstant stay',\n",
              " 'sets you most rich in youth before my sight,',\n",
              " 'where wasteful time debateth with decay,',\n",
              " 'to change your day of youth to sullied night;',\n",
              " 'and all in war with time for love of you,',\n",
              " 'as he takes from you, i engraft you new.',\n",
              " 'but wherefore do not you a mightier way',\n",
              " 'make war upon this bloody tyrant, time?',\n",
              " 'and fortify yourself in your decay',\n",
              " 'with means more blessed than my barren rhyme?',\n",
              " 'now stand you on the top of happy hours,',\n",
              " 'and many maiden gardens yet unset',\n",
              " 'with virtuous wish would bear your living flowers,',\n",
              " 'much liker than your painted counterfeit:',\n",
              " 'so should the lines of life that life repair,',\n",
              " \"which this, time's pencil, or my pupil pen,\",\n",
              " 'neither in inward worth nor outward fair,',\n",
              " 'can make you live yourself in eyes of men.',\n",
              " 'to give away yourself keeps yourself still,',\n",
              " 'and you must live, drawn by your own sweet skill.',\n",
              " 'who will believe my verse in time to come,',\n",
              " \"if it were fill'd with your most high deserts?\",\n",
              " 'though yet, heaven knows, it is but as a tomb',\n",
              " 'which hides your life and shows not half your parts.',\n",
              " 'if i could write the beauty of your eyes',\n",
              " 'and in fresh numbers number all your graces,',\n",
              " \"the age to come would say 'this poet lies:\",\n",
              " \"such heavenly touches ne'er touch'd earthly faces.'\",\n",
              " \"so should my papers yellow'd with their age\",\n",
              " \"be scorn'd like old men of less truth than tongue,\",\n",
              " \"and your true rights be term'd a poet's rage\",\n",
              " 'and stretched metre of an antique song:',\n",
              " 'but were some child of yours alive that time,',\n",
              " 'you should live twice; in it and in my rhyme.',\n",
              " '',\n",
              " 'xviii.',\n",
              " '',\n",
              " \"shall i compare thee to a summer's day?\",\n",
              " 'thou art more lovely and more temperate:',\n",
              " 'rough winds do shake the darling buds of may,',\n",
              " \"and summer's lease hath all too short a date:\",\n",
              " 'sometime too hot the eye of heaven shines,',\n",
              " \"and often is his gold complexion dimm'd;\",\n",
              " 'and every fair from fair sometime declines,',\n",
              " \"by chance or nature's changing course untrimm'd;\",\n",
              " 'but thy eternal summer shall not fade',\n",
              " 'nor lose possession of that fair thou owest;',\n",
              " \"nor shall death brag thou wander'st in his shade,\",\n",
              " 'when in eternal lines to time thou growest:',\n",
              " 'so long as men can breathe or eyes can see,',\n",
              " 'so long lives this and this gives life to thee.',\n",
              " \"devouring time, blunt thou the lion's paws,\",\n",
              " 'and make the earth devour her own sweet brood;',\n",
              " \"pluck the keen teeth from the fierce tiger's jaws,\",\n",
              " 'and burn the long-lived phoenix in her blood;',\n",
              " 'make glad and sorry seasons as thou fleets,',\n",
              " \"and do whate'er thou wilt, swift-footed time,\",\n",
              " 'to the wide world and all her fading sweets;',\n",
              " 'but i forbid thee one most heinous crime:',\n",
              " \"o, carve not with thy hours my love's fair brow,\",\n",
              " 'nor draw no lines there with thine antique pen;',\n",
              " 'him in thy course untainted do allow',\n",
              " \"for beauty's pattern to succeeding men.\",\n",
              " 'yet, do thy worst, old time: despite thy wrong,',\n",
              " 'my love shall in my verse ever live young.',\n",
              " \"a woman's face with nature's own hand painted\",\n",
              " 'hast thou, the master-mistress of my passion;',\n",
              " \"a woman's gentle heart, but not acquainted\",\n",
              " \"with shifting change, as is false women's fashion;\",\n",
              " 'an eye more bright than theirs, less false in rolling,',\n",
              " 'gilding the object whereupon it gazeth;',\n",
              " \"a man in hue, all 'hues' in his controlling,\",\n",
              " \"much steals men's eyes and women's souls amazeth.\",\n",
              " 'and for a woman wert thou first created;',\n",
              " 'till nature, as she wrought thee, fell a-doting,',\n",
              " 'and by addition me of thee defeated,',\n",
              " 'by adding one thing to my purpose nothing.',\n",
              " \"but since she prick'd thee out for women's pleasure,\",\n",
              " \"mine be thy love and thy love's use their treasure.\",\n",
              " 'so is it not with me as with that muse',\n",
              " \"stirr'd by a painted beauty to his verse,\",\n",
              " 'who heaven itself for ornament doth use',\n",
              " 'and every fair with his fair doth rehearse',\n",
              " 'making a couplement of proud compare,',\n",
              " \"with sun and moon, with earth and sea's rich gems,\",\n",
              " \"with april's first-born flowers, and all things rare\",\n",
              " \"that heaven's air in this huge rondure hems.\",\n",
              " \"o' let me, true in love, but truly write,\",\n",
              " 'and then believe me, my love is as fair',\n",
              " \"as any mother's child, though not so bright\",\n",
              " \"as those gold candles fix'd in heaven's air:\",\n",
              " 'let them say more than like of hearsay well;',\n",
              " 'i will not praise that purpose not to sell.',\n",
              " 'my glass shall not persuade me i am old,',\n",
              " 'so long as youth and thou are of one date;',\n",
              " \"but when in thee time's furrows i behold,\",\n",
              " 'then look i death my days should expiate.',\n",
              " 'for all that beauty that doth cover thee',\n",
              " 'is but the seemly raiment of my heart,',\n",
              " 'which in thy breast doth live, as thine in me:',\n",
              " 'how can i then be elder than thou art?',\n",
              " 'o, therefore, love, be of thyself so wary',\n",
              " 'as i, not for myself, but for thee will;',\n",
              " 'bearing thy heart, which i will keep so chary',\n",
              " 'as tender nurse her babe from faring ill.',\n",
              " 'presume not on thy heart when mine is slain;',\n",
              " 'thou gavest me thine, not to give back again.',\n",
              " 'as an unperfect actor on the stage',\n",
              " 'who with his fear is put besides his part,',\n",
              " 'or some fierce thing replete with too much rage,',\n",
              " \"whose strength's abundance weakens his own heart.\",\n",
              " 'so i, for fear of trust, forget to say',\n",
              " \"the perfect ceremony of love's rite,\",\n",
              " \"and in mine own love's strength seem to decay,\",\n",
              " \"o'ercharged with burden of mine own love's might.\",\n",
              " 'o, let my books be then the eloquence',\n",
              " 'and dumb presagers of my speaking breast,',\n",
              " 'who plead for love and look for recompense',\n",
              " \"more than that tongue that more hath more express'd.\",\n",
              " 'o, learn to read what silent love hath writ:',\n",
              " \"to hear with eyes belongs to love's fine wit.\",\n",
              " \"mine eye hath play'd the painter and hath stell'd\",\n",
              " \"thy beauty's form in table of my heart;\",\n",
              " \"my body is the frame wherein 'tis held,\",\n",
              " \"and perspective it is the painter's art.\",\n",
              " 'for through the painter must you see his skill,',\n",
              " 'to find where your true image pictured lies;',\n",
              " \"which in my bosom's shop is hanging still,\",\n",
              " 'that hath his windows glazed with thine eyes.',\n",
              " 'now see what good turns eyes for eyes have done:',\n",
              " 'mine eyes have drawn thy shape, and thine for me',\n",
              " 'are windows to my breast, where-through the sun',\n",
              " 'delights to peep, to gaze therein on thee;',\n",
              " 'yet eyes this cunning want to grace their art;',\n",
              " 'they draw but what they see, know not the heart.',\n",
              " 'let those who are in favour with their stars',\n",
              " 'of public honour and proud titles boast,',\n",
              " 'whilst i, whom fortune of such triumph bars,',\n",
              " \"unlook'd for joy in that i honour most.\",\n",
              " \"great princes' favourites their fair leaves spread\",\n",
              " \"but as the marigold at the sun's eye,\",\n",
              " 'and in themselves their pride lies buried,',\n",
              " 'for at a frown they in their glory die.',\n",
              " 'the painful warrior famoused for fight,',\n",
              " \"after a thousand victories once foil'd,\",\n",
              " 'is from the book of honour razed quite,',\n",
              " \"and all the rest forgot for which he toil'd:\",\n",
              " 'then happy i, that love and am beloved',\n",
              " 'where i may not remove nor be removed.',\n",
              " 'ord of my love, to whom in vassalage',\n",
              " 'thy merit hath my duty strongly knit,',\n",
              " 'to thee i send this written embassage,',\n",
              " 'to witness duty, not to show my wit:',\n",
              " 'duty so great, which wit so poor as mine',\n",
              " 'may make seem bare, in wanting words to show it,',\n",
              " 'but that i hope some good conceit of thine',\n",
              " \"in thy soul's thought, all naked, will bestow it;\",\n",
              " 'till whatsoever star that guides my moving',\n",
              " 'points on me graciously with fair aspect',\n",
              " \"and puts apparel on my tatter'd loving,\",\n",
              " 'to show me worthy of thy sweet respect:',\n",
              " 'then may i dare to boast how i do love thee;',\n",
              " 'till then not show my head where thou mayst prove me.',\n",
              " 'weary with toil, i haste me to my bed,',\n",
              " 'the dear repose for limbs with travel tired;',\n",
              " 'but then begins a journey in my head,',\n",
              " \"to work my mind, when body's work's expired:\",\n",
              " 'for then my thoughts, from far where i abide,',\n",
              " 'intend a zealous pilgrimage to thee,',\n",
              " 'and keep my drooping eyelids open wide,',\n",
              " 'looking on darkness which the blind do see',\n",
              " \"save that my soul's imaginary sight\",\n",
              " 'presents thy shadow to my sightless view,',\n",
              " 'which, like a jewel hung in ghastly night,',\n",
              " 'makes black night beauteous and her old face new.',\n",
              " 'lo! thus, by day my limbs, by night my mind,',\n",
              " 'for thee and for myself no quiet find.',\n",
              " 'ow can i then return in happy plight,',\n",
              " \"that am debarr'd the benefit of rest?\",\n",
              " \"when day's oppression is not eased by night,\",\n",
              " \"but day by night, and night by day, oppress'd?\",\n",
              " \"and each, though enemies to either's reign,\",\n",
              " 'do in consent shake hands to torture me;',\n",
              " 'the one by toil, the other to complain',\n",
              " 'how far i toil, still farther off from thee.',\n",
              " 'i tell the day, to please them thou art bright',\n",
              " 'and dost him grace when clouds do blot the heaven:',\n",
              " \"so flatter i the swart-complexion'd night,\",\n",
              " \"when sparkling stars twire not thou gild'st the even.\",\n",
              " 'but day doth daily draw my sorrows longer',\n",
              " \"and night doth nightly make grief's strengthseem stronger.\",\n",
              " \"when, in disgrace with fortune and men's eyes,\",\n",
              " 'i all alone beweep my outcast state',\n",
              " 'and trouble deaf heaven with my bootless cries',\n",
              " 'and look upon myself and curse my fate,',\n",
              " 'wishing me like to one more rich in hope,',\n",
              " \"featured like him, like him with friends possess'd,\",\n",
              " \"desiring this man's art and that man's scope,\",\n",
              " 'with what i most enjoy contented least;',\n",
              " 'yet in these thoughts myself almost despising,',\n",
              " 'haply i think on thee, and then my state,',\n",
              " 'like to the lark at break of day arising',\n",
              " \"from sullen earth, sings hymns at heaven's gate;\",\n",
              " \"for thy sweet love remember'd such wealth brings\",\n",
              " 'that then i scorn to change my state with kings.',\n",
              " 'when to the sessions of sweet silent thought',\n",
              " 'i summon up remembrance of things past,',\n",
              " 'i sigh the lack of many a thing i sought,',\n",
              " \"and with old woes new wail my dear time's waste:\",\n",
              " 'then can i drown an eye, unused to flow,',\n",
              " \"for precious friends hid in death's dateless night,\",\n",
              " \"and weep afresh love's long since cancell'd woe,\",\n",
              " \"and moan the expense of many a vanish'd sight:\",\n",
              " 'then can i grieve at grievances foregone,',\n",
              " \"and heavily from woe to woe tell o'er\",\n",
              " 'the sad account of fore-bemoaned moan,',\n",
              " 'which i new pay as if not paid before.',\n",
              " 'but if the while i think on thee, dear friend,',\n",
              " 'all losses are restored and sorrows end.',\n",
              " 'thy bosom is endeared with all hearts,',\n",
              " 'which i by lacking have supposed dead,',\n",
              " \"and there reigns love and all love's loving parts,\",\n",
              " 'and all those friends which i thought buried.',\n",
              " 'how many a holy and obsequious tear',\n",
              " \"hath dear religious love stol'n from mine eye\",\n",
              " 'as interest of the dead, which now appear',\n",
              " 'but things removed that hidden in thee lie!',\n",
              " 'thou art the grave where buried love doth live,',\n",
              " 'hung with the trophies of my lovers gone,',\n",
              " 'who all their parts of me to thee did give;',\n",
              " 'that due of many now is thine alone:',\n",
              " 'their images i loved i view in thee,',\n",
              " 'and thou, all they, hast all the all of me.',\n",
              " 'if thou survive my well-contented day,',\n",
              " 'when that churl death my bones with dust shall cover,',\n",
              " 'and shalt by fortune once more re-survey',\n",
              " 'these poor rude lines of thy deceased lover,',\n",
              " 'compare them with the bettering of the time,',\n",
              " \"and though they be outstripp'd by every pen,\",\n",
              " 'reserve them for my love, not for their rhyme,',\n",
              " 'exceeded by the height of happier men.',\n",
              " 'o, then vouchsafe me but this loving thought:',\n",
              " \"'had my friend's muse grown with this growing age,\",\n",
              " 'a dearer birth than this his love had brought,',\n",
              " 'to march in ranks of better equipage:',\n",
              " 'but since he died and poets better prove,',\n",
              " \"theirs for their style i'll read, his for his love.'\",\n",
              " 'full many a glorious morning have i seen',\n",
              " 'flatter the mountain-tops with sovereign eye,',\n",
              " 'kissing with golden face the meadows green,',\n",
              " 'gilding pale streams with heavenly alchemy;',\n",
              " 'anon permit the basest clouds to ride',\n",
              " 'with ugly rack on his celestial face,',\n",
              " 'and from the forlorn world his visage hide,',\n",
              " 'stealing unseen to west with this disgrace:',\n",
              " 'even so my sun one early morn did shine',\n",
              " 'with all triumphant splendor on my brow;',\n",
              " 'but out, alack! he was but one hour mine;',\n",
              " \"the region cloud hath mask'd him from me now.\",\n",
              " 'yet him for this my love no whit disdaineth;',\n",
              " \"suns of the world may stain when heaven's sun staineth.\",\n",
              " 'why didst thou promise such a beauteous day,',\n",
              " 'and make me travel forth without my cloak,',\n",
              " \"to let base clouds o'ertake me in my way,\",\n",
              " 'hiding thy bravery in their rotten smoke?',\n",
              " \"'tis not enough that through the cloud thou break,\",\n",
              " 'to dry the rain on my storm-beaten face,',\n",
              " 'for no man well of such a salve can speak',\n",
              " 'that heals the wound and cures not the disgrace:',\n",
              " 'nor can thy shame give physic to my grief;',\n",
              " 'though thou repent, yet i have still the loss:',\n",
              " \"the offender's sorrow lends but weak relief\",\n",
              " \"to him that bears the strong offence's cross.\",\n",
              " 'ah! but those tears are pearl which thy love sheds,',\n",
              " 'and they are rich and ransom all ill deeds.',\n",
              " 'no more be grieved at that which thou hast done:',\n",
              " 'roses have thorns, and silver fountains mud;',\n",
              " 'clouds and eclipses stain both moon and sun,',\n",
              " 'and loathsome canker lives in sweetest bud.',\n",
              " 'all men make faults, and even i in this,',\n",
              " 'authorizing thy trespass with compare,',\n",
              " 'myself corrupting, salving thy amiss,',\n",
              " 'excusing thy sins more than thy sins are;',\n",
              " 'for to thy sensual fault i bring in sense--',\n",
              " 'thy adverse party is thy advocate--',\n",
              " \"and 'gainst myself a lawful plea commence:\",\n",
              " 'such civil war is in my love and hate',\n",
              " 'that i an accessary needs must be',\n",
              " 'to that sweet thief which sourly robs from me.',\n",
              " 'let me confess that we two must be twain,',\n",
              " 'although our undivided loves are one:',\n",
              " 'so shall those blots that do with me remain',\n",
              " 'without thy help by me be borne alone.',\n",
              " 'in our two loves there is but one respect,',\n",
              " 'though in our lives a separable spite,',\n",
              " \"which though it alter not love's sole effect,\",\n",
              " \"yet doth it steal sweet hours from love's delight.\",\n",
              " 'i may not evermore acknowledge thee,',\n",
              " 'lest my bewailed guilt should do thee shame,',\n",
              " 'nor thou with public kindness honour me,',\n",
              " 'unless thou take that honour from thy name:',\n",
              " 'but do not so; i love thee in such sort',\n",
              " 'as, thou being mine, mine is thy good report.',\n",
              " 'as a decrepit father takes delight',\n",
              " 'to see his active child do deeds of youth,',\n",
              " \"so i, made lame by fortune's dearest spite,\",\n",
              " 'take all my comfort of thy worth and truth.',\n",
              " 'for whether beauty, birth, or wealth, or wit,',\n",
              " 'or any of these all, or all, or more,',\n",
              " 'entitled in thy parts do crowned sit,',\n",
              " 'i make my love engrafted to this store:',\n",
              " 'so then i am not lame, poor, nor despised,',\n",
              " 'whilst that this shadow doth such substance give',\n",
              " 'that i in thy abundance am sufficed',\n",
              " 'and by a part of all thy glory live.',\n",
              " 'look, what is best, that best i wish in thee:',\n",
              " 'this wish i have; then ten times happy me!',\n",
              " 'how can my muse want subject to invent,',\n",
              " \"while thou dost breathe, that pour'st into my verse\",\n",
              " 'thine own sweet argument, too excellent',\n",
              " 'for every vulgar paper to rehearse?',\n",
              " 'o, give thyself the thanks, if aught in me',\n",
              " 'worthy perusal stand against thy sight;',\n",
              " \"for who's so dumb that cannot write to thee,\",\n",
              " 'when thou thyself dost give invention light?',\n",
              " 'be thou the tenth muse, ten times more in worth',\n",
              " 'than those old nine which rhymers invocate;',\n",
              " 'and he that calls on thee, let him bring forth',\n",
              " 'eternal numbers to outlive long date.',\n",
              " 'if my slight muse do please these curious days,',\n",
              " 'the pain be mine, but thine shall be the praise.',\n",
              " 'o, how thy worth with manners may i sing,',\n",
              " 'when thou art all the better part of me?',\n",
              " 'what can mine own praise to mine own self bring?',\n",
              " \"and what is 't but mine own when i praise thee?\",\n",
              " 'even for this let us divided live,',\n",
              " 'and our dear love lose name of single one,',\n",
              " 'that by this separation i may give',\n",
              " 'that due to thee which thou deservest alone.',\n",
              " 'o absence, what a torment wouldst thou prove,',\n",
              " 'were it not thy sour leisure gave sweet leave',\n",
              " 'to entertain the time with thoughts of love,',\n",
              " 'which time and thoughts so sweetly doth deceive,',\n",
              " 'and that thou teachest how to make one twain,',\n",
              " 'by praising him here who doth hence remain!',\n",
              " 'take all my loves, my love, yea, take them all;',\n",
              " 'what hast thou then more than thou hadst before?',\n",
              " 'no love, my love, that thou mayst true love call;',\n",
              " 'all mine was thine before thou hadst this more.',\n",
              " 'then if for my love thou my love receivest,',\n",
              " 'i cannot blame thee for my love thou usest;',\n",
              " 'but yet be blamed, if thou thyself deceivest',\n",
              " 'by wilful taste of what thyself refusest.',\n",
              " 'i do forgive thy robbery, gentle thief,',\n",
              " 'although thou steal thee all my poverty;',\n",
              " 'and yet, love knows, it is a greater grief',\n",
              " \"to bear love's wrong than hate's known injury.\",\n",
              " 'lascivious grace, in whom all ill well shows,',\n",
              " 'kill me with spites; yet we must not be foes.',\n",
              " 'those petty wrongs that liberty commits,',\n",
              " 'when i am sometime absent from thy heart,',\n",
              " 'thy beauty and thy years full well befits,',\n",
              " 'for still temptation follows where thou art.',\n",
              " 'gentle thou art and therefore to be won,',\n",
              " 'beauteous thou art, therefore to be assailed;',\n",
              " \"and when a woman woos, what woman's son\",\n",
              " 'will sourly leave her till she have prevailed?',\n",
              " 'ay me! but yet thou mightest my seat forbear,',\n",
              " 'and chide thy beauty and thy straying youth,',\n",
              " 'who lead thee in their riot even there',\n",
              " 'where thou art forced to break a twofold truth,',\n",
              " 'hers by thy beauty tempting her to thee,',\n",
              " 'thine, by thy beauty being false to me.',\n",
              " 'that thou hast her, it is not all my grief,',\n",
              " 'and yet it may be said i loved her dearly;',\n",
              " 'that she hath thee, is of my wailing chief,',\n",
              " 'a loss in love that touches me more nearly.',\n",
              " 'loving offenders, thus i will excuse ye:',\n",
              " 'thou dost love her, because thou knowst i love her;',\n",
              " 'and for my sake even so doth she abuse me,',\n",
              " 'suffering my friend for my sake to approve her.',\n",
              " \"if i lose thee, my loss is my love's gain,\",\n",
              " 'and losing her, my friend hath found that loss;',\n",
              " 'both find each other, and i lose both twain,',\n",
              " 'and both for my sake lay on me this cross:',\n",
              " \"but here's the joy; my friend and i are one;\",\n",
              " 'sweet flattery! then she loves but me alone.',\n",
              " 'when most i wink, then do mine eyes best see,',\n",
              " 'for all the day they view things unrespected;',\n",
              " 'but when i sleep, in dreams they look on thee,',\n",
              " 'and darkly bright are bright in dark directed.',\n",
              " 'then thou, whose shadow shadows doth make bright,',\n",
              " \"how would thy shadow's form form happy show\",\n",
              " 'to the clear day with thy much clearer light,',\n",
              " 'when to unseeing eyes thy shade shines so!',\n",
              " 'how would, i say, mine eyes be blessed made',\n",
              " 'by looking on thee in the living day,',\n",
              " 'when in dead night thy fair imperfect shade',\n",
              " 'through heavy sleep on sightless eyes doth stay!',\n",
              " 'all days are nights to see till i see thee,',\n",
              " 'and nights bright days when dreams do show thee me.',\n",
              " 'if the dull substance of my flesh were thought,',\n",
              " 'injurious distance should not stop my way;',\n",
              " 'for then despite of space i would be brought,',\n",
              " 'from limits far remote where thou dost stay.',\n",
              " 'no matter then although my foot did stand',\n",
              " 'upon the farthest earth removed from thee;',\n",
              " 'for nimble thought can jump both sea and land',\n",
              " 'as soon as think the place where he would be.',\n",
              " 'but ah! thought kills me that i am not thought,',\n",
              " 'to leap large lengths of miles when thou art gone,',\n",
              " 'but that so much of earth and water wrought',\n",
              " \"i must attend time's leisure with my moan,\",\n",
              " 'receiving nought by elements so slow',\n",
              " \"but heavy tears, badges of either's woe.\",\n",
              " 'the other two, slight air and purging fire,',\n",
              " 'are both with thee, wherever i abide;',\n",
              " 'the first my thought, the other my desire,',\n",
              " 'these present-absent with swift motion slide.',\n",
              " 'for when these quicker elements are gone',\n",
              " 'in tender embassy of love to thee,',\n",
              " 'my life, being made of four, with two alone',\n",
              " \"sinks down to death, oppress'd with melancholy;\",\n",
              " \"until life's composition be recured\",\n",
              " \"by those swift messengers return'd from thee,\",\n",
              " 'who even but now come back again, assured',\n",
              " 'of thy fair health, recounting it to me:',\n",
              " 'this told, i joy; but then no longer glad,',\n",
              " 'i send them back again and straight grow sad.',\n",
              " 'mine eye and heart are at a mortal war',\n",
              " 'how to divide the conquest of thy sight;',\n",
              " \"mine eye my heart thy picture's sight would bar,\",\n",
              " 'my heart mine eye the freedom of that right.',\n",
              " 'my heart doth plead that thou in him dost lie--',\n",
              " 'a closet never pierced with crystal eyes--',\n",
              " 'but the defendant doth that plea deny',\n",
              " 'and says in him thy fair appearance lies.',\n",
              " \"to 'cide this title is impanneled\",\n",
              " 'a quest of thoughts, all tenants to the heart,',\n",
              " 'and by their verdict is determined',\n",
              " \"the clear eye's moiety and the dear heart's part:\",\n",
              " \"as thus; mine eye's due is thy outward part,\",\n",
              " \"and my heart's right thy inward love of heart.\",\n",
              " 'betwixt mine eye and heart a league is took,',\n",
              " 'and each doth good turns now unto the other:',\n",
              " \"when that mine eye is famish'd for a look,\",\n",
              " 'or heart in love with sighs himself doth smother,',\n",
              " \"with my love's picture then my eye doth feast\",\n",
              " 'and to the painted banquet bids my heart;',\n",
              " \"another time mine eye is my heart's guest\",\n",
              " 'and in his thoughts of love doth share a part:',\n",
              " 'so, either by thy picture or my love,',\n",
              " 'thyself away art resent still with me;',\n",
              " 'for thou not farther than my thoughts canst move,',\n",
              " 'and i am still with them and they with thee;',\n",
              " 'or, if they sleep, thy picture in my sight',\n",
              " \"awakes my heart to heart's and eye's delight.\",\n",
              " 'how careful was i, when i took my way,',\n",
              " 'each trifle under truest bars to thrust,',\n",
              " 'that to my use it might unused stay',\n",
              " 'from hands of falsehood, in sure wards of trust!',\n",
              " 'but thou, to whom my jewels trifles are,',\n",
              " 'most worthy of comfort, now my greatest grief,',\n",
              " 'thou, best of dearest and mine only care,',\n",
              " 'art left the prey of every vulgar thief.',\n",
              " \"thee have i not lock'd up in any chest,\",\n",
              " 'save where thou art not, though i feel thou art,',\n",
              " 'within the gentle closure of my breast,',\n",
              " 'from whence at pleasure thou mayst come and part;',\n",
              " \"and even thence thou wilt be stol'n, i fear,\",\n",
              " 'for truth proves thievish for a prize so dear.',\n",
              " 'against that time, if ever that time come,',\n",
              " 'when i shall see thee frown on my defects,',\n",
              " 'when as thy love hath cast his utmost sum,',\n",
              " \"call'd to that audit by advised respects;\",\n",
              " 'against that time when thou shalt strangely pass',\n",
              " 'and scarcely greet me with that sun thine eye,',\n",
              " 'when love, converted from the thing it was,',\n",
              " 'shall reasons find of settled gravity,--',\n",
              " 'against that time do i ensconce me here',\n",
              " 'within the knowledge of mine own desert,',\n",
              " 'and this my hand against myself uprear,',\n",
              " 'to guard the lawful reasons on thy part:',\n",
              " 'to leave poor me thou hast the strength of laws,',\n",
              " 'since why to love i can allege no cause.',\n",
              " 'how heavy do i journey on the way,',\n",
              " \"when what i seek, my weary travel's end,\",\n",
              " 'doth teach that ease and that repose to say',\n",
              " \"'thus far the miles are measured from thy friend!'\",\n",
              " 'the beast that bears me, tired with my woe,',\n",
              " 'plods dully on, to bear that weight in me,',\n",
              " 'as if by some instinct the wretch did know',\n",
              " 'his rider loved not speed, being made from thee:',\n",
              " 'the bloody spur cannot provoke him on',\n",
              " 'that sometimes anger thrusts into his hide;',\n",
              " 'which heavily he answers with a groan,',\n",
              " 'more sharp to me than spurring to his side;',\n",
              " 'for that same groan doth put this in my mind;',\n",
              " 'my grief lies onward and my joy behind.',\n",
              " 'thus can my love excuse the slow offence',\n",
              " 'of my dull bearer when from thee i speed:',\n",
              " 'from where thou art why should i haste me thence?',\n",
              " 'till i return, of posting is no need.',\n",
              " 'o, what excuse will my poor beast then find,',\n",
              " 'when swift extremity can seem but slow?',\n",
              " 'then should i spur, though mounted on the wind;',\n",
              " 'in winged speed no motion shall i know:',\n",
              " 'then can no horse with my desire keep pace;',\n",
              " \"therefore desire of perfect'st love being made,\",\n",
              " 'shall neigh--no dull flesh--in his fiery race;',\n",
              " 'but love, for love, thus shall excuse my jade;',\n",
              " 'since from thee going he went wilful-slow,',\n",
              " \"towards thee i'll run, and give him leave to go.\",\n",
              " 'so am i as the rich, whose blessed key',\n",
              " 'can bring him to his sweet up-locked treasure,',\n",
              " 'the which he will not every hour survey,',\n",
              " 'for blunting the fine point of seldom pleasure.',\n",
              " 'therefore are feasts so solemn and so rare,',\n",
              " 'since, seldom coming, in the long year set,',\n",
              " 'like stones of worth they thinly placed are,',\n",
              " 'or captain jewels in the carcanet.',\n",
              " 'so is the time that keeps you as my chest,',\n",
              " 'or as the wardrobe which the robe doth hide,',\n",
              " 'to make some special instant special blest,',\n",
              " \"by new unfolding his imprison'd pride.\",\n",
              " 'blessed are you, whose worthiness gives scope,',\n",
              " \"being had, to triumph, being lack'd, to hope.\",\n",
              " 'what is your substance, whereof are you made,',\n",
              " 'that millions of strange shadows on you tend?',\n",
              " 'since every one hath, every one, one shade,',\n",
              " 'and you, but one, can every shadow lend.',\n",
              " 'describe adonis, and the counterfeit',\n",
              " 'is poorly imitated after you;',\n",
              " \"on helen's cheek all art of beauty set,\",\n",
              " 'and you in grecian tires are painted new:',\n",
              " 'speak of the spring and foison of the year;',\n",
              " 'the one doth shadow of your beauty show,',\n",
              " 'the other as your bounty doth appear;',\n",
              " 'and you in every blessed shape we know.',\n",
              " 'in all external grace you have some part,',\n",
              " 'but you like none, none you, for constant heart.',\n",
              " 'o, how much more doth beauty beauteous seem',\n",
              " 'by that sweet ornament which truth doth give!',\n",
              " 'the rose looks fair, but fairer we it deem',\n",
              " 'for that sweet odour which doth in it live.',\n",
              " 'the canker-blooms have full as deep a dye',\n",
              " 'as the perfumed tincture of the roses,',\n",
              " 'hang on such thorns and play as wantonly',\n",
              " \"when summer's breath their masked buds discloses:\",\n",
              " 'but, for their virtue only is their show,',\n",
              " \"they live unwoo'd and unrespected fade,\",\n",
              " 'die to themselves. sweet roses do not so;',\n",
              " 'of their sweet deaths are sweetest odours made:',\n",
              " 'and so of you, beauteous and lovely youth,',\n",
              " 'when that shall fade, my verse distills your truth.',\n",
              " 'not marble, nor the gilded monuments',\n",
              " 'of princes, shall outlive this powerful rhyme;',\n",
              " 'but you shall shine more bright in these contents',\n",
              " \"than unswept stone besmear'd with sluttish time.\",\n",
              " 'when wasteful war shall statues overturn,',\n",
              " 'and broils root out the work of masonry,',\n",
              " \"nor mars his sword nor war's quick fire shall burn\",\n",
              " 'the living record of your memory.',\n",
              " \"'gainst death and all-oblivious enmity\",\n",
              " 'shall you pace forth; your praise shall still find room',\n",
              " 'even in the eyes of all posterity',\n",
              " 'that wear this world out to the ending doom.',\n",
              " 'so, till the judgment that yourself arise,',\n",
              " \"you live in this, and dwell in lover's eyes.\",\n",
              " 'sweet love, renew thy force; be it not said',\n",
              " 'thy edge should blunter be than appetite,',\n",
              " \"which but to-day by feeding is allay'd,\",\n",
              " \"to-morrow sharpen'd in his former might:\",\n",
              " 'so, love, be thou; although to-day thou fill',\n",
              " 'thy hungry eyes even till they wink with fullness,',\n",
              " 'to-morrow see again, and do not kill',\n",
              " 'the spirit of love with a perpetual dullness.',\n",
              " 'let this sad interim like the ocean be',\n",
              " 'which parts the shore, where two contracted new',\n",
              " 'come daily to the banks, that, when they see',\n",
              " 'return of love, more blest may be the view;',\n",
              " 'else call it winter, which being full of care',\n",
              " \"makes summer's welcome thrice more wish'd, more rare.\",\n",
              " 'being your slave, what should i do but tend',\n",
              " 'upon the hours and times of your desire?',\n",
              " 'i have no precious time at all to spend,',\n",
              " 'nor services to do, till you require.',\n",
              " 'nor dare i chide the world-without-end hour',\n",
              " 'whilst i, my sovereign, watch the clock for you,',\n",
              " 'nor think the bitterness of absence sour',\n",
              " 'when you have bid your servant once adieu;',\n",
              " 'nor dare i question with my jealous thought',\n",
              " 'where you may be, or your affairs suppose,',\n",
              " 'but, like a sad slave, stay and think of nought',\n",
              " 'save, where you are how happy you make those.',\n",
              " 'so true a fool is love that in your will,',\n",
              " 'though you do any thing, he thinks no ill.',\n",
              " 'that god forbid that made me first your slave,',\n",
              " 'i should in thought control your times of pleasure,',\n",
              " 'or at your hand the account of hours to crave,',\n",
              " 'being your vassal, bound to stay your leisure!',\n",
              " 'o, let me suffer, being at your beck,',\n",
              " \"the imprison'd absence of your liberty;\",\n",
              " 'and patience, tame to sufferance, bide each check,',\n",
              " 'without accusing you of injury.',\n",
              " 'be where you list, your charter is so strong',\n",
              " 'that you yourself may privilege your time',\n",
              " 'to what you will; to you it doth belong',\n",
              " 'yourself to pardon of self-doing crime.',\n",
              " 'i am to wait, though waiting so be hell;',\n",
              " 'not blame your pleasure, be it ill or well.',\n",
              " 'if there be nothing new, but that which is',\n",
              " 'hath been before, how are our brains beguiled,',\n",
              " 'which, labouring for invention, bear amiss',\n",
              " 'the second burden of a former child!',\n",
              " 'o, that record could with a backward look,',\n",
              " 'even of five hundred courses of the sun,',\n",
              " 'show me your image in some antique book,',\n",
              " 'since mind at first in character was done!',\n",
              " 'that i might see what the old world could say',\n",
              " 'to this composed wonder of your frame;',\n",
              " 'whether we are mended, or whether better they,',\n",
              " 'or whether revolution be the same.',\n",
              " 'o, sure i am, the wits of former days',\n",
              " 'to subjects worse have given admiring praise.',\n",
              " 'like as the waves make towards the pebbled shore,',\n",
              " 'so do our minutes hasten to their end;',\n",
              " 'each changing place with that which goes before,',\n",
              " 'in sequent toil all forwards do contend.',\n",
              " 'nativity, once in the main of light,',\n",
              " \"crawls to maturity, wherewith being crown'd,\",\n",
              " \"crooked elipses 'gainst his glory fight,\",\n",
              " 'and time that gave doth now his gift confound.',\n",
              " 'time doth transfix the flourish set on youth',\n",
              " \"and delves the parallels in beauty's brow,\",\n",
              " \"feeds on the rarities of nature's truth,\",\n",
              " 'and nothing stands but for his scythe to mow:',\n",
              " 'and yet to times in hope my verse shall stand,',\n",
              " 'praising thy worth, despite his cruel hand.',\n",
              " 'is it thy will thy image should keep open',\n",
              " 'my heavy eyelids to the weary night?',\n",
              " 'dost thou desire my slumbers should be broken,',\n",
              " 'while shadows like to thee do mock my sight?',\n",
              " \"is it thy spirit that thou send'st from thee\",\n",
              " 'so far from home into my deeds to pry,',\n",
              " 'to find out shames and idle hours in me,',\n",
              " 'the scope and tenor of thy jealousy?',\n",
              " 'o, no! thy love, though much, is not so great:',\n",
              " 'it is my love that keeps mine eye awake;',\n",
              " 'mine own true love that doth my rest defeat,',\n",
              " 'to play the watchman ever for thy sake:',\n",
              " 'for thee watch i whilst thou dost wake elsewhere,',\n",
              " 'from me far off, with others all too near.',\n",
              " 'sin of self-love possesseth all mine eye',\n",
              " 'and all my soul and all my every part;',\n",
              " 'and for this sin there is no remedy,',\n",
              " 'it is so grounded inward in my heart.',\n",
              " 'methinks no face so gracious is as mine,',\n",
              " 'no shape so true, no truth of such account;',\n",
              " 'and for myself mine own worth do define,',\n",
              " 'as i all other in all worths surmount.',\n",
              " 'but when my glass shows me myself indeed,',\n",
              " \"beated and chopp'd with tann'd antiquity,\",\n",
              " 'mine own self-love quite contrary i read;',\n",
              " 'self so self-loving were iniquity.',\n",
              " \"'tis thee, myself, that for myself i praise,\",\n",
              " 'painting my age with beauty of thy days.',\n",
              " 'against my love shall be, as i am now,',\n",
              " \"with time's injurious hand crush'd and o'er-worn;\",\n",
              " \"when hours have drain'd his blood and fill'd his brow\",\n",
              " 'with lines and wrinkles; when his youthful morn',\n",
              " \"hath travell'd on to age's steepy night,\",\n",
              " \"and all those beauties whereof now he's king\",\n",
              " \"are vanishing or vanish'd out of sight,\",\n",
              " 'stealing away the treasure of his spring;',\n",
              " 'for such a time do i now fortify',\n",
              " \"against confounding age's cruel knife,\",\n",
              " 'that he shall never cut from memory',\n",
              " \"my sweet love's beauty, though my lover's life:\",\n",
              " 'his beauty shall in these black lines be seen,',\n",
              " 'and they shall live, and he in them still green.',\n",
              " \"when i have seen by time's fell hand defaced\",\n",
              " 'the rich proud cost of outworn buried age;',\n",
              " 'when sometime lofty towers i see down-razed',\n",
              " 'and brass eternal slave to mortal rage;',\n",
              " 'when i have seen the hungry ocean gain',\n",
              " 'advantage on the kingdom of the shore,',\n",
              " 'and the firm soil win of the watery main,',\n",
              " 'increasing store with loss and loss with store;',\n",
              " 'when i have seen such interchange of state,',\n",
              " 'or state itself confounded to decay;',\n",
              " 'ruin hath taught me thus to ruminate,',\n",
              " 'that time will come and take my love away.',\n",
              " 'this thought is as a death, which cannot choose',\n",
              " 'but weep to have that which it fears to lose.',\n",
              " 'since brass, nor stone, nor earth, nor boundless sea,',\n",
              " \"but sad mortality o'er-sways their power,\",\n",
              " 'how with this rage shall beauty hold a plea,',\n",
              " 'whose action is no stronger than a flower?',\n",
              " \"o, how shall summer's honey breath hold out\",\n",
              " 'against the wreckful siege of battering days,',\n",
              " 'when rocks impregnable are not so stout,',\n",
              " 'nor gates of steel so strong, but time decays?',\n",
              " 'o fearful meditation! where, alack,',\n",
              " \"shall time's best jewel from time's chest lie hid?\",\n",
              " 'or what strong hand can hold his swift foot back?',\n",
              " 'or who his spoil of beauty can forbid?',\n",
              " 'o, none, unless this miracle have might,',\n",
              " 'that in black ink my love may still shine bright.',\n",
              " 'tired with all these, for restful death i cry,',\n",
              " 'as, to behold desert a beggar born,',\n",
              " \"and needy nothing trimm'd in jollity,\",\n",
              " 'and purest faith unhappily forsworn,',\n",
              " 'and guilded honour shamefully misplaced,',\n",
              " 'and maiden virtue rudely strumpeted,',\n",
              " 'and right perfection wrongfully disgraced,',\n",
              " 'and strength by limping sway disabled,',\n",
              " 'and art made tongue-tied by authority,',\n",
              " 'and folly doctor-like controlling skill,',\n",
              " \"and simple truth miscall'd simplicity,\",\n",
              " 'and captive good attending captain ill:',\n",
              " 'tired with all these, from these would i be gone,',\n",
              " 'save that, to die, i leave my love alone.',\n",
              " 'ah! wherefore with infection should he live,',\n",
              " 'and with his presence grace impiety,',\n",
              " 'that sin by him advantage should achieve',\n",
              " 'and lace itself with his society?',\n",
              " 'why should false painting imitate his cheek',\n",
              " 'and steal dead seeing of his living hue?',\n",
              " 'why should poor beauty indirectly seek',\n",
              " 'roses of shadow, since his rose is true?',\n",
              " 'why should he live, now nature bankrupt is,',\n",
              " \"beggar'd of blood to blush through lively veins?\",\n",
              " 'for she hath no excheckr now but his,',\n",
              " 'and, proud of many, lives upon his gains.',\n",
              " 'o, him she stores, to show what wealth she had',\n",
              " 'in days long since, before these last so bad.',\n",
              " 'thus is his cheek the map of days outworn,',\n",
              " 'when beauty lived and died as flowers do now,',\n",
              " 'before the bastard signs of fair were born,',\n",
              " 'or durst inhabit on a living brow;',\n",
              " 'before the golden tresses of the dead,',\n",
              " 'the right of sepulchres, were shorn away,',\n",
              " 'to live a second life on second head;',\n",
              " \"ere beauty's dead fleece made another gay:\",\n",
              " 'in him those holy antique hours are seen,',\n",
              " 'without all ornament, itself and true,',\n",
              " \"making no summer of another's green,\",\n",
              " 'robbing no old to dress his beauty new;',\n",
              " 'and him as for a map doth nature store,',\n",
              " 'to show false art what beauty was of yore.',\n",
              " \"those parts of thee that the world's eye doth view\",\n",
              " 'want nothing that the thought of hearts can mend;',\n",
              " 'all tongues, the voice of souls, give thee that due,',\n",
              " 'uttering bare truth, even so as foes commend.',\n",
              " \"thy outward thus with outward praise is crown'd;\",\n",
              " 'but those same tongues that give thee so thine own',\n",
              " 'in other accents do this praise confound',\n",
              " 'by seeing farther than the eye hath shown.',\n",
              " 'they look into the beauty of thy mind,',\n",
              " 'and that, in guess, they measure by thy deeds;',\n",
              " 'then, churls, their thoughts, although their eyes were kind,',\n",
              " 'to thy fair flower add the rank smell of weeds:',\n",
              " 'but why thy odour matcheth not thy show,',\n",
              " 'the solve is this, that thou dost common grow.',\n",
              " 'that thou art blamed shall not be thy defect,',\n",
              " \"for slander's mark was ever yet the fair;\",\n",
              " 'the ornament of beauty is suspect,',\n",
              " \"a crow that flies in heaven's sweetest air.\",\n",
              " 'so thou be good, slander doth but approve',\n",
              " \"thy worth the greater, being woo'd of time;\",\n",
              " 'for canker vice the sweetest buds doth love,',\n",
              " \"and thou present'st a pure unstained prime.\",\n",
              " \"thou hast pass'd by the ambush of young days,\",\n",
              " \"either not assail'd or victor being charged;\",\n",
              " 'yet this thy praise cannot be so thy praise,',\n",
              " 'to tie up envy evermore enlarged:',\n",
              " \"if some suspect of ill mask'd not thy show,\",\n",
              " 'then thou alone kingdoms of hearts shouldst owe.',\n",
              " 'no longer mourn for me when i am dead',\n",
              " 'then you shall hear the surly sullen bell',\n",
              " 'give warning to the world that i am fled',\n",
              " 'from this vile world, with vilest worms to dwell:',\n",
              " 'nay, if you read this line, remember not',\n",
              " 'the hand that writ it; for i love you so',\n",
              " 'that i in your sweet thoughts would be forgot',\n",
              " 'if thinking on me then should make you woe.',\n",
              " 'o, if, i say, you look upon this verse',\n",
              " 'when i perhaps compounded am with clay,',\n",
              " 'do not so much as my poor name rehearse.',\n",
              " 'but let your love even with my life decay,',\n",
              " 'lest the wise world should look into your moan',\n",
              " 'and mock you with me after i am gone.',\n",
              " 'o, lest the world should task you to recite',\n",
              " 'what merit lived in me, that you should love',\n",
              " 'after my death, dear love, forget me quite,',\n",
              " ...]"
            ]
          },
          "metadata": {},
          "execution_count": 9
        }
      ]
    },
    {
      "cell_type": "markdown",
      "metadata": {
        "id": "XFMP4z11O3os"
      },
      "source": [
        "If you pass this text directly into the `texts_to_sequences` method you will get an unexpected result:"
      ]
    },
    {
      "cell_type": "code",
      "execution_count": 6,
      "metadata": {
        "deletable": false,
        "editable": false,
        "id": "EMSEhmbzNZCE",
        "tags": [
          "graded"
        ],
        "colab": {
          "base_uri": "https://localhost:8080/"
        },
        "outputId": "420a5714-a644-4f6c-a959-ea526c1d980c"
      },
      "outputs": [
        {
          "output_type": "execute_result",
          "data": {
            "text/plain": [
              "[[],\n",
              " [],\n",
              " [58],\n",
              " [],\n",
              " [],\n",
              " [],\n",
              " [17],\n",
              " [6],\n",
              " [],\n",
              " [],\n",
              " [],\n",
              " [],\n",
              " [],\n",
              " [],\n",
              " [],\n",
              " [],\n",
              " [17],\n",
              " [],\n",
              " [],\n",
              " [],\n",
              " [],\n",
              " [],\n",
              " [],\n",
              " [],\n",
              " [],\n",
              " [],\n",
              " [],\n",
              " [],\n",
              " [],\n",
              " [6],\n",
              " [],\n",
              " [],\n",
              " [],\n",
              " [6],\n",
              " [],\n",
              " [],\n",
              " [],\n",
              " [],\n",
              " [17],\n",
              " [],\n",
              " [],\n",
              " []]"
            ]
          },
          "metadata": {},
          "execution_count": 6
        }
      ],
      "source": [
        "# grader-required-cell\n",
        "\n",
        "tokenizer.texts_to_sequences(corpus[0])"
      ]
    },
    {
      "cell_type": "markdown",
      "metadata": {
        "id": "pPZmZtpEPEeI"
      },
      "source": [
        "This happened because `texts_to_sequences` expects a list and you are providing a string. However a string is still and `iterable` in Python so you will get the word index of every character in the string.\n",
        "\n",
        "Instead you need to place the example whithin a list before passing it to the method:"
      ]
    },
    {
      "cell_type": "code",
      "execution_count": 7,
      "metadata": {
        "deletable": false,
        "editable": false,
        "id": "Qmgo-vXhk4nd",
        "tags": [
          "graded"
        ],
        "colab": {
          "base_uri": "https://localhost:8080/"
        },
        "outputId": "6aaf80b4-27e0-4ccc-f9c4-39acf88b2ac6"
      },
      "outputs": [
        {
          "output_type": "execute_result",
          "data": {
            "text/plain": [
              "[[34, 417, 877, 166, 213, 517]]"
            ]
          },
          "metadata": {},
          "execution_count": 7
        }
      ],
      "source": [
        "# grader-required-cell\n",
        "\n",
        "tokenizer.texts_to_sequences([corpus[0]])"
      ]
    },
    {
      "cell_type": "markdown",
      "metadata": {
        "id": "0DU7wK-eQ5dc"
      },
      "source": [
        "Notice that you received the sequence wrapped inside a list so in order to get only the desired sequence you need to explicitly get the first item in the list like this:"
      ]
    },
    {
      "cell_type": "code",
      "execution_count": 8,
      "metadata": {
        "deletable": false,
        "editable": false,
        "id": "kpTy8WmIQ57P",
        "tags": [
          "graded"
        ],
        "colab": {
          "base_uri": "https://localhost:8080/"
        },
        "outputId": "07206b51-604e-4e7f-a0d3-8b876a9268fb"
      },
      "outputs": [
        {
          "output_type": "execute_result",
          "data": {
            "text/plain": [
              "[34, 417, 877, 166, 213, 517]"
            ]
          },
          "metadata": {},
          "execution_count": 8
        }
      ],
      "source": [
        "# grader-required-cell\n",
        "\n",
        "tokenizer.texts_to_sequences([corpus[0]])[0]"
      ]
    },
    {
      "cell_type": "markdown",
      "metadata": {
        "id": "-oqy9KjXRJ9A"
      },
      "source": [
        "## Generating n_grams\n",
        "\n",
        "Now complete the `n_gram_seqs` function below. This function receives the fitted tokenizer and the corpus (which is a list of strings) and should return a list containing the `n_gram` sequences for each line in the corpus:"
      ]
    },
    {
      "cell_type": "code",
      "execution_count": 14,
      "metadata": {
        "deletable": false,
        "id": "iy4baJMDl6kj",
        "tags": [
          "graded"
        ]
      },
      "outputs": [],
      "source": [
        "# grader-required-cell\n",
        "\n",
        "# GRADED FUNCTION: n_gram_seqs\n",
        "def n_gram_seqs(corpus, tokenizer):\n",
        "    \"\"\"\n",
        "    Generates a list of n-gram sequences\n",
        "    \n",
        "    Args:\n",
        "        corpus (list of string): lines of texts to generate n-grams for\n",
        "        tokenizer (object): an instance of the Tokenizer class containing the word-index dictionary\n",
        "    \n",
        "    Returns:\n",
        "        input_sequences (list of int): the n-gram sequences for each line in the corpus\n",
        "    \"\"\"\n",
        "    input_sequences = []\n",
        "\n",
        "    ### START CODE HERE\n",
        "    for line in corpus:\n",
        "      token_list =  tokenizer.texts_to_sequences([line])[0]\n",
        "      for i in range(1, len(token_list)):\n",
        "        n_gram_sequences = token_list[:i+1]\n",
        "        input_sequences.append(n_gram_sequences)\n",
        "    \n",
        "    ### END CODE HERE\n",
        "    \n",
        "    return input_sequences"
      ]
    },
    {
      "cell_type": "code",
      "execution_count": 15,
      "metadata": {
        "deletable": false,
        "editable": false,
        "id": "DlKqW2pfM7G3",
        "tags": [
          "graded"
        ],
        "colab": {
          "base_uri": "https://localhost:8080/"
        },
        "outputId": "b0dc8f53-96ac-416c-edd7-4aa1a3148de2"
      },
      "outputs": [
        {
          "output_type": "stream",
          "name": "stdout",
          "text": [
            "n_gram sequences for first example look like this:\n",
            "\n"
          ]
        },
        {
          "output_type": "execute_result",
          "data": {
            "text/plain": [
              "[[34, 417],\n",
              " [34, 417, 877],\n",
              " [34, 417, 877, 166],\n",
              " [34, 417, 877, 166, 213],\n",
              " [34, 417, 877, 166, 213, 517]]"
            ]
          },
          "metadata": {},
          "execution_count": 15
        }
      ],
      "source": [
        "# grader-required-cell\n",
        "\n",
        "# Test your function with one example\n",
        "first_example_sequence = n_gram_seqs([corpus[0]], tokenizer)\n",
        "\n",
        "print(\"n_gram sequences for first example look like this:\\n\")\n",
        "first_example_sequence"
      ]
    },
    {
      "cell_type": "markdown",
      "metadata": {
        "id": "0HL8Ug6UU0Jt"
      },
      "source": [
        "**Expected Output:**\n",
        "\n",
        "```\n",
        "n_gram sequences for first example look like this:\n",
        "\n",
        "[[34, 417],\n",
        " [34, 417, 877],\n",
        " [34, 417, 877, 166],\n",
        " [34, 417, 877, 166, 213],\n",
        " [34, 417, 877, 166, 213, 517]]\n",
        "```"
      ]
    },
    {
      "cell_type": "code",
      "execution_count": 16,
      "metadata": {
        "deletable": false,
        "editable": false,
        "id": "wtPpCcBjNc4c",
        "tags": [
          "graded"
        ],
        "colab": {
          "base_uri": "https://localhost:8080/"
        },
        "outputId": "a2239c87-091c-4422-ff79-08418a3e1390"
      },
      "outputs": [
        {
          "output_type": "stream",
          "name": "stdout",
          "text": [
            "n_gram sequences for next 3 examples look like this:\n",
            "\n"
          ]
        },
        {
          "output_type": "execute_result",
          "data": {
            "text/plain": [
              "[[8, 878],\n",
              " [8, 878, 134],\n",
              " [8, 878, 134, 351],\n",
              " [8, 878, 134, 351, 102],\n",
              " [8, 878, 134, 351, 102, 156],\n",
              " [8, 878, 134, 351, 102, 156, 199],\n",
              " [16, 22],\n",
              " [16, 22, 2],\n",
              " [16, 22, 2, 879],\n",
              " [16, 22, 2, 879, 61],\n",
              " [16, 22, 2, 879, 61, 30],\n",
              " [16, 22, 2, 879, 61, 30, 48],\n",
              " [16, 22, 2, 879, 61, 30, 48, 634],\n",
              " [25, 311],\n",
              " [25, 311, 635],\n",
              " [25, 311, 635, 102],\n",
              " [25, 311, 635, 102, 200],\n",
              " [25, 311, 635, 102, 200, 25],\n",
              " [25, 311, 635, 102, 200, 25, 278]]"
            ]
          },
          "metadata": {},
          "execution_count": 16
        }
      ],
      "source": [
        "# grader-required-cell\n",
        "\n",
        "# Test your function with a bigger corpus\n",
        "next_3_examples_sequence = n_gram_seqs(corpus[1:4], tokenizer)\n",
        "\n",
        "print(\"n_gram sequences for next 3 examples look like this:\\n\")\n",
        "next_3_examples_sequence"
      ]
    },
    {
      "cell_type": "markdown",
      "metadata": {
        "id": "EIzecMczU9UB"
      },
      "source": [
        "**Expected Output:**\n",
        "\n",
        "```\n",
        "n_gram sequences for next 3 examples look like this:\n",
        "\n",
        "[[8, 878],\n",
        " [8, 878, 134],\n",
        " [8, 878, 134, 351],\n",
        " [8, 878, 134, 351, 102],\n",
        " [8, 878, 134, 351, 102, 156],\n",
        " [8, 878, 134, 351, 102, 156, 199],\n",
        " [16, 22],\n",
        " [16, 22, 2],\n",
        " [16, 22, 2, 879],\n",
        " [16, 22, 2, 879, 61],\n",
        " [16, 22, 2, 879, 61, 30],\n",
        " [16, 22, 2, 879, 61, 30, 48],\n",
        " [16, 22, 2, 879, 61, 30, 48, 634],\n",
        " [25, 311],\n",
        " [25, 311, 635],\n",
        " [25, 311, 635, 102],\n",
        " [25, 311, 635, 102, 200],\n",
        " [25, 311, 635, 102, 200, 25],\n",
        " [25, 311, 635, 102, 200, 25, 278]]\n",
        "```"
      ]
    },
    {
      "cell_type": "markdown",
      "metadata": {
        "id": "dx3V_RjFWQSu"
      },
      "source": [
        "Apply the `n_gram_seqs` transformation to the whole corpus and save the maximum sequence length to use it later:"
      ]
    },
    {
      "cell_type": "code",
      "execution_count": 17,
      "metadata": {
        "deletable": false,
        "editable": false,
        "id": "laMwiRUpmuSd",
        "tags": [
          "graded"
        ],
        "colab": {
          "base_uri": "https://localhost:8080/"
        },
        "outputId": "fb6a3290-b29e-4599-a692-b2ae8b6cfa5e"
      },
      "outputs": [
        {
          "output_type": "stream",
          "name": "stdout",
          "text": [
            "n_grams of input_sequences have length: 15462\n",
            "maximum length of sequences is: 11\n"
          ]
        }
      ],
      "source": [
        "# grader-required-cell\n",
        "\n",
        "# Apply the n_gram_seqs transformation to the whole corpus\n",
        "input_sequences = n_gram_seqs(corpus, tokenizer)\n",
        "\n",
        "# Save max length \n",
        "max_sequence_len = max([len(x) for x in input_sequences])\n",
        "\n",
        "print(f\"n_grams of input_sequences have length: {len(input_sequences)}\")\n",
        "print(f\"maximum length of sequences is: {max_sequence_len}\")"
      ]
    },
    {
      "cell_type": "markdown",
      "metadata": {
        "id": "2OciMdmEdE9L"
      },
      "source": [
        "**Expected Output:**\n",
        "\n",
        "```\n",
        "n_grams of input_sequences have length: 15462\n",
        "maximum length of sequences is: 11\n",
        "```"
      ]
    },
    {
      "cell_type": "markdown",
      "metadata": {
        "id": "zHY7HroqWq12"
      },
      "source": [
        "## Add padding to the sequences\n",
        "\n",
        "Now code the `pad_seqs` function which will pad any given sequences to the desired maximum length. Notice that this function receives a list of sequences and should return a numpy array with the padded sequences: "
      ]
    },
    {
      "cell_type": "code",
      "execution_count": 18,
      "metadata": {
        "cellView": "code",
        "deletable": false,
        "id": "WW1-qAZaWOhC",
        "tags": [
          "graded"
        ]
      },
      "outputs": [],
      "source": [
        "# grader-required-cell\n",
        "\n",
        "# GRADED FUNCTION: pad_seqs\n",
        "def pad_seqs(input_sequences, maxlen):\n",
        "    \"\"\"\n",
        "    Pads tokenized sequences to the same length\n",
        "    \n",
        "    Args:\n",
        "        input_sequences (list of int): tokenized sequences to pad\n",
        "        maxlen (int): maximum length of the token sequences\n",
        "    \n",
        "    Returns:\n",
        "        padded_sequences (array of int): tokenized sequences padded to the same length\n",
        "    \"\"\"\n",
        "    ### START CODE HERE\n",
        "    padded_sequences = pad_sequences(input_sequences, maxlen = maxlen, padding = 'pre')\n",
        "    \n",
        "    return padded_sequences\n",
        "    ### END CODE HERE"
      ]
    },
    {
      "cell_type": "code",
      "execution_count": 19,
      "metadata": {
        "deletable": false,
        "editable": false,
        "id": "IqVQ0pb3YHLr",
        "tags": [
          "graded"
        ],
        "colab": {
          "base_uri": "https://localhost:8080/"
        },
        "outputId": "f0cfa23d-d6eb-40ef-ead9-1a89ac823818"
      },
      "outputs": [
        {
          "output_type": "execute_result",
          "data": {
            "text/plain": [
              "array([[  0,   0,   0,   0,  34, 417],\n",
              "       [  0,   0,   0,  34, 417, 877],\n",
              "       [  0,   0,  34, 417, 877, 166],\n",
              "       [  0,  34, 417, 877, 166, 213],\n",
              "       [ 34, 417, 877, 166, 213, 517]], dtype=int32)"
            ]
          },
          "metadata": {},
          "execution_count": 19
        }
      ],
      "source": [
        "# grader-required-cell\n",
        "\n",
        "# Test your function with the n_grams_seq of the first example\n",
        "first_padded_seq = pad_seqs(first_example_sequence, max([len(x) for x in first_example_sequence]))\n",
        "first_padded_seq"
      ]
    },
    {
      "cell_type": "markdown",
      "metadata": {
        "id": "Re_avDznXRnU"
      },
      "source": [
        "**Expected Output:**\n",
        "\n",
        "```\n",
        "array([[  0,   0,   0,   0,  34, 417],\n",
        "       [  0,   0,   0,  34, 417, 877],\n",
        "       [  0,   0,  34, 417, 877, 166],\n",
        "       [  0,  34, 417, 877, 166, 213],\n",
        "       [ 34, 417, 877, 166, 213, 517]], dtype=int32)\n",
        "```"
      ]
    },
    {
      "cell_type": "code",
      "execution_count": 20,
      "metadata": {
        "deletable": false,
        "editable": false,
        "id": "j56_UCOBYzZt",
        "tags": [
          "graded"
        ],
        "colab": {
          "base_uri": "https://localhost:8080/"
        },
        "outputId": "0ec806e7-a066-45ba-abb7-2ca378e31878"
      },
      "outputs": [
        {
          "output_type": "execute_result",
          "data": {
            "text/plain": [
              "array([[  0,   0,   0,   0,   0,   0,   8, 878],\n",
              "       [  0,   0,   0,   0,   0,   8, 878, 134],\n",
              "       [  0,   0,   0,   0,   8, 878, 134, 351],\n",
              "       [  0,   0,   0,   8, 878, 134, 351, 102],\n",
              "       [  0,   0,   8, 878, 134, 351, 102, 156],\n",
              "       [  0,   8, 878, 134, 351, 102, 156, 199],\n",
              "       [  0,   0,   0,   0,   0,   0,  16,  22],\n",
              "       [  0,   0,   0,   0,   0,  16,  22,   2],\n",
              "       [  0,   0,   0,   0,  16,  22,   2, 879],\n",
              "       [  0,   0,   0,  16,  22,   2, 879,  61],\n",
              "       [  0,   0,  16,  22,   2, 879,  61,  30],\n",
              "       [  0,  16,  22,   2, 879,  61,  30,  48],\n",
              "       [ 16,  22,   2, 879,  61,  30,  48, 634],\n",
              "       [  0,   0,   0,   0,   0,   0,  25, 311],\n",
              "       [  0,   0,   0,   0,   0,  25, 311, 635],\n",
              "       [  0,   0,   0,   0,  25, 311, 635, 102],\n",
              "       [  0,   0,   0,  25, 311, 635, 102, 200],\n",
              "       [  0,   0,  25, 311, 635, 102, 200,  25],\n",
              "       [  0,  25, 311, 635, 102, 200,  25, 278]], dtype=int32)"
            ]
          },
          "metadata": {},
          "execution_count": 20
        }
      ],
      "source": [
        "# grader-required-cell\n",
        "\n",
        "# Test your function with the n_grams_seq of the next 3 examples\n",
        "next_3_padded_seq = pad_seqs(next_3_examples_sequence, max([len(s) for s in next_3_examples_sequence]))\n",
        "next_3_padded_seq"
      ]
    },
    {
      "cell_type": "markdown",
      "metadata": {
        "id": "3rmcDluOXcIU"
      },
      "source": [
        "**Expected Output:**\n",
        "\n",
        "```\n",
        "array([[  0,   0,   0,   0,   0,   0,   8, 878],\n",
        "       [  0,   0,   0,   0,   0,   8, 878, 134],\n",
        "       [  0,   0,   0,   0,   8, 878, 134, 351],\n",
        "       [  0,   0,   0,   8, 878, 134, 351, 102],\n",
        "       [  0,   0,   8, 878, 134, 351, 102, 156],\n",
        "       [  0,   8, 878, 134, 351, 102, 156, 199],\n",
        "       [  0,   0,   0,   0,   0,   0,  16,  22],\n",
        "       [  0,   0,   0,   0,   0,  16,  22,   2],\n",
        "       [  0,   0,   0,   0,  16,  22,   2, 879],\n",
        "       [  0,   0,   0,  16,  22,   2, 879,  61],\n",
        "       [  0,   0,  16,  22,   2, 879,  61,  30],\n",
        "       [  0,  16,  22,   2, 879,  61,  30,  48],\n",
        "       [ 16,  22,   2, 879,  61,  30,  48, 634],\n",
        "       [  0,   0,   0,   0,   0,   0,  25, 311],\n",
        "       [  0,   0,   0,   0,   0,  25, 311, 635],\n",
        "       [  0,   0,   0,   0,  25, 311, 635, 102],\n",
        "       [  0,   0,   0,  25, 311, 635, 102, 200],\n",
        "       [  0,   0,  25, 311, 635, 102, 200,  25],\n",
        "       [  0,  25, 311, 635, 102, 200,  25, 278]], dtype=int32)\n",
        "```"
      ]
    },
    {
      "cell_type": "code",
      "execution_count": 21,
      "metadata": {
        "deletable": false,
        "editable": false,
        "id": "rgK-Q_micEYA",
        "tags": [
          "graded"
        ],
        "colab": {
          "base_uri": "https://localhost:8080/"
        },
        "outputId": "b7be7d0b-d206-472f-9a42-173802160467"
      },
      "outputs": [
        {
          "output_type": "stream",
          "name": "stdout",
          "text": [
            "padded corpus has shape: (15462, 11)\n"
          ]
        }
      ],
      "source": [
        "# grader-required-cell\n",
        "\n",
        "# Pad the whole corpus\n",
        "input_sequences = pad_seqs(input_sequences, max_sequence_len)\n",
        "\n",
        "print(f\"padded corpus has shape: {input_sequences.shape}\")"
      ]
    },
    {
      "cell_type": "markdown",
      "metadata": {
        "id": "59RD1YYNc7CW"
      },
      "source": [
        "**Expected Output:**\n",
        "\n",
        "```\n",
        "padded corpus has shape: (15462, 11)\n",
        "```"
      ]
    },
    {
      "cell_type": "markdown",
      "metadata": {
        "id": "ZbOidyPrXxf7"
      },
      "source": [
        "## Split the data into features and labels\n",
        "\n",
        "Before feeding the data into the neural network you should split it into features and labels. In this case the features will be the padded n_gram sequences with the last word removed from them and the labels will be the removed word.\n",
        "\n",
        "Complete the `features_and_labels` function below. This function expects the padded n_gram sequences as input and should return a tuple containing the features and the one hot encoded labels.\n",
        "\n",
        "Notice that the function also receives the total of words in the corpus, this parameter will be very important when one hot enconding the labels since every word in the corpus will be a label at least once. If you need a refresh of how the `to_categorical` function works take a look at the [docs](https://www.tensorflow.org/api_docs/python/tf/keras/utils/to_categorical)"
      ]
    },
    {
      "cell_type": "code",
      "execution_count": 22,
      "metadata": {
        "cellView": "code",
        "deletable": false,
        "id": "9WGGbYdnZdmJ",
        "tags": [
          "graded"
        ]
      },
      "outputs": [],
      "source": [
        "# grader-required-cell\n",
        "\n",
        "# GRADED FUNCTION: features_and_labels\n",
        "def features_and_labels(input_sequences, total_words):\n",
        "    \"\"\"\n",
        "    Generates features and labels from n-grams\n",
        "    \n",
        "    Args:\n",
        "        input_sequences (list of int): sequences to split features and labels from\n",
        "        total_words (int): vocabulary size\n",
        "    \n",
        "    Returns:\n",
        "        features, one_hot_labels (array of int, array of int): arrays of features and one-hot encoded labels\n",
        "    \"\"\"\n",
        "    ### START CODE HERE\n",
        "    features = input_sequences[:,:-1]\n",
        "    labels = input_sequences[:,-1]\n",
        "    one_hot_labels = to_categorical(labels, num_classes=total_words)\n",
        "    ### END CODE HERE\n",
        "\n",
        "    return features, one_hot_labels"
      ]
    },
    {
      "cell_type": "code",
      "execution_count": 23,
      "metadata": {
        "deletable": false,
        "editable": false,
        "id": "23DolaBRaIAZ",
        "tags": [
          "graded"
        ],
        "colab": {
          "base_uri": "https://localhost:8080/"
        },
        "outputId": "b2c32b95-fbde-45df-d0ec-ddecd239cf57"
      },
      "outputs": [
        {
          "output_type": "stream",
          "name": "stdout",
          "text": [
            "labels have shape: (5, 3211)\n",
            "\n",
            "features look like this:\n",
            "\n"
          ]
        },
        {
          "output_type": "execute_result",
          "data": {
            "text/plain": [
              "array([[  0,   0,   0,   0,  34],\n",
              "       [  0,   0,   0,  34, 417],\n",
              "       [  0,   0,  34, 417, 877],\n",
              "       [  0,  34, 417, 877, 166],\n",
              "       [ 34, 417, 877, 166, 213]], dtype=int32)"
            ]
          },
          "metadata": {},
          "execution_count": 23
        }
      ],
      "source": [
        "# grader-required-cell\n",
        "\n",
        "# Test your function with the padded n_grams_seq of the first example\n",
        "first_features, first_labels = features_and_labels(first_padded_seq, total_words)\n",
        "\n",
        "print(f\"labels have shape: {first_labels.shape}\")\n",
        "print(\"\\nfeatures look like this:\\n\")\n",
        "first_features"
      ]
    },
    {
      "cell_type": "markdown",
      "metadata": {
        "id": "7t4yAx2UaQ43"
      },
      "source": [
        "**Expected Output:**\n",
        "\n",
        "```\n",
        "labels have shape: (5, 3211)\n",
        "\n",
        "features look like this:\n",
        "\n",
        "array([[  0,   0,   0,   0,  34],\n",
        "       [  0,   0,   0,  34, 417],\n",
        "       [  0,   0,  34, 417, 877],\n",
        "       [  0,  34, 417, 877, 166],\n",
        "       [ 34, 417, 877, 166, 213]], dtype=int32)\n",
        "```"
      ]
    },
    {
      "cell_type": "code",
      "execution_count": 24,
      "metadata": {
        "deletable": false,
        "editable": false,
        "id": "GRTuLEt3bRKa",
        "tags": [
          "graded"
        ],
        "colab": {
          "base_uri": "https://localhost:8080/"
        },
        "outputId": "72ba5889-a527-4350-90f2-c270fc19db03"
      },
      "outputs": [
        {
          "output_type": "stream",
          "name": "stdout",
          "text": [
            "features have shape: (15462, 10)\n",
            "labels have shape: (15462, 3211)\n"
          ]
        }
      ],
      "source": [
        "# grader-required-cell\n",
        "\n",
        "# Split the whole corpus\n",
        "features, labels = features_and_labels(input_sequences, total_words)\n",
        "\n",
        "print(f\"features have shape: {features.shape}\")\n",
        "print(f\"labels have shape: {labels.shape}\")"
      ]
    },
    {
      "cell_type": "markdown",
      "metadata": {
        "id": "xXSMK_HpdLns"
      },
      "source": [
        "**Expected Output:**\n",
        "\n",
        "```\n",
        "features have shape: (15462, 10)\n",
        "labels have shape: (15462, 3211)\n",
        "```"
      ]
    },
    {
      "cell_type": "markdown",
      "metadata": {
        "id": "ltxaOCE_aU6J"
      },
      "source": [
        "## Create the model\n",
        "\n",
        "Now you should define a model architecture capable of achieving an accuracy of at least 80%.\n",
        "\n",
        "Some hints to help you in this task:\n",
        "\n",
        "- An appropriate `output_dim` for the first layer (Embedding) is 100, this is already provided for you.\n",
        "- A Bidirectional LSTM is helpful for this particular problem.\n",
        "- The last layer should have the same number of units as the total number of words in the corpus and a softmax activation function.\n",
        "- This problem can be solved with only two layers (excluding the Embedding) so try out small architectures first."
      ]
    },
    {
      "cell_type": "code",
      "execution_count": 27,
      "metadata": {
        "cellView": "code",
        "deletable": false,
        "id": "XrE6kpJFfvRY",
        "tags": [
          "graded"
        ]
      },
      "outputs": [],
      "source": [
        "# grader-required-cell\n",
        "\n",
        "# GRADED FUNCTION: create_model\n",
        "def create_model(total_words, max_sequence_len):\n",
        "    \"\"\"\n",
        "    Creates a text generator model\n",
        "    \n",
        "    Args:\n",
        "        total_words (int): size of the vocabulary for the Embedding layer input\n",
        "        max_sequence_len (int): length of the input sequences\n",
        "    \n",
        "    Returns:\n",
        "        model (tf.keras Model): the text generator model\n",
        "    \"\"\"\n",
        "    model = Sequential()\n",
        "    ### START CODE HERE\n",
        "    model.add(Embedding(total_words, 100, input_length=max_sequence_len-1))\n",
        "    model.add(Bidirectional(LSTM(150)))\n",
        "    model.add(Dense(total_words,activation='softmax'))\n",
        "\n",
        "\n",
        "    # Compile the model\n",
        "    model.compile(loss='categorical_crossentropy',\n",
        "                  optimizer='adam',\n",
        "                  metrics=['accuracy'])\n",
        "    \n",
        "    ### END CODE HERE\n",
        "\n",
        "    return model"
      ]
    },
    {
      "cell_type": "code",
      "execution_count": 28,
      "metadata": {
        "id": "0IpX_Gu_gISk",
        "tags": [],
        "colab": {
          "base_uri": "https://localhost:8080/"
        },
        "outputId": "214a1053-22f9-4e07-d820-5a29e2fbc667"
      },
      "outputs": [
        {
          "output_type": "stream",
          "name": "stdout",
          "text": [
            "Epoch 1/50\n",
            "484/484 [==============================] - 22s 23ms/step - loss: 6.8899 - accuracy: 0.0233\n",
            "Epoch 2/50\n",
            "484/484 [==============================] - 4s 9ms/step - loss: 6.4218 - accuracy: 0.0303\n",
            "Epoch 3/50\n",
            "484/484 [==============================] - 4s 9ms/step - loss: 6.1770 - accuracy: 0.0435\n",
            "Epoch 4/50\n",
            "484/484 [==============================] - 4s 8ms/step - loss: 5.9107 - accuracy: 0.0535\n",
            "Epoch 5/50\n",
            "484/484 [==============================] - 4s 9ms/step - loss: 5.6094 - accuracy: 0.0654\n",
            "Epoch 6/50\n",
            "484/484 [==============================] - 4s 7ms/step - loss: 5.2698 - accuracy: 0.0756\n",
            "Epoch 7/50\n",
            "484/484 [==============================] - 4s 8ms/step - loss: 4.8961 - accuracy: 0.0946\n",
            "Epoch 8/50\n",
            "484/484 [==============================] - 4s 8ms/step - loss: 4.5132 - accuracy: 0.1206\n",
            "Epoch 9/50\n",
            "484/484 [==============================] - 4s 8ms/step - loss: 4.1150 - accuracy: 0.1686\n",
            "Epoch 10/50\n",
            "484/484 [==============================] - 4s 8ms/step - loss: 3.7422 - accuracy: 0.2266\n",
            "Epoch 11/50\n",
            "484/484 [==============================] - 4s 8ms/step - loss: 3.3797 - accuracy: 0.2962\n",
            "Epoch 12/50\n",
            "484/484 [==============================] - 4s 8ms/step - loss: 3.0480 - accuracy: 0.3550\n",
            "Epoch 13/50\n",
            "484/484 [==============================] - 4s 8ms/step - loss: 2.7523 - accuracy: 0.4157\n",
            "Epoch 14/50\n",
            "484/484 [==============================] - 4s 8ms/step - loss: 2.4953 - accuracy: 0.4667\n",
            "Epoch 15/50\n",
            "484/484 [==============================] - 4s 9ms/step - loss: 2.2609 - accuracy: 0.5186\n",
            "Epoch 16/50\n",
            "484/484 [==============================] - 4s 7ms/step - loss: 2.0536 - accuracy: 0.5651\n",
            "Epoch 17/50\n",
            "484/484 [==============================] - 4s 8ms/step - loss: 1.8606 - accuracy: 0.6090\n",
            "Epoch 18/50\n",
            "484/484 [==============================] - 4s 9ms/step - loss: 1.6945 - accuracy: 0.6411\n",
            "Epoch 19/50\n",
            "484/484 [==============================] - 4s 7ms/step - loss: 1.5470 - accuracy: 0.6753\n",
            "Epoch 20/50\n",
            "484/484 [==============================] - 3s 7ms/step - loss: 1.4184 - accuracy: 0.7050\n",
            "Epoch 21/50\n",
            "484/484 [==============================] - 4s 9ms/step - loss: 1.2961 - accuracy: 0.7304\n",
            "Epoch 22/50\n",
            "484/484 [==============================] - 4s 8ms/step - loss: 1.1965 - accuracy: 0.7545\n",
            "Epoch 23/50\n",
            "484/484 [==============================] - 4s 8ms/step - loss: 1.1036 - accuracy: 0.7725\n",
            "Epoch 24/50\n",
            "484/484 [==============================] - 4s 8ms/step - loss: 1.0232 - accuracy: 0.7884\n",
            "Epoch 25/50\n",
            "484/484 [==============================] - 4s 8ms/step - loss: 0.9569 - accuracy: 0.7995\n",
            "Epoch 26/50\n",
            "484/484 [==============================] - 4s 8ms/step - loss: 0.8987 - accuracy: 0.8099\n",
            "Epoch 27/50\n",
            "484/484 [==============================] - 4s 8ms/step - loss: 0.8494 - accuracy: 0.8209\n",
            "Epoch 28/50\n",
            "484/484 [==============================] - 4s 8ms/step - loss: 0.8033 - accuracy: 0.8274\n",
            "Epoch 29/50\n",
            "484/484 [==============================] - 4s 7ms/step - loss: 0.7639 - accuracy: 0.8322\n",
            "Epoch 30/50\n",
            "484/484 [==============================] - 4s 7ms/step - loss: 0.7358 - accuracy: 0.8353\n",
            "Epoch 31/50\n",
            "484/484 [==============================] - 5s 9ms/step - loss: 0.7135 - accuracy: 0.8393\n",
            "Epoch 32/50\n",
            "484/484 [==============================] - 4s 8ms/step - loss: 0.6979 - accuracy: 0.8404\n",
            "Epoch 33/50\n",
            "484/484 [==============================] - 4s 7ms/step - loss: 0.6780 - accuracy: 0.8436\n",
            "Epoch 34/50\n",
            "484/484 [==============================] - 4s 9ms/step - loss: 0.6552 - accuracy: 0.8457\n",
            "Epoch 35/50\n",
            "484/484 [==============================] - 4s 7ms/step - loss: 0.6424 - accuracy: 0.8462\n",
            "Epoch 36/50\n",
            "484/484 [==============================] - 4s 7ms/step - loss: 0.6400 - accuracy: 0.8453\n",
            "Epoch 37/50\n",
            "484/484 [==============================] - 4s 9ms/step - loss: 0.6247 - accuracy: 0.8450\n",
            "Epoch 38/50\n",
            "484/484 [==============================] - 4s 7ms/step - loss: 0.6173 - accuracy: 0.8483\n",
            "Epoch 39/50\n",
            "484/484 [==============================] - 4s 7ms/step - loss: 0.6054 - accuracy: 0.8467\n",
            "Epoch 40/50\n",
            "484/484 [==============================] - 4s 8ms/step - loss: 0.6019 - accuracy: 0.8489\n",
            "Epoch 41/50\n",
            "484/484 [==============================] - 4s 8ms/step - loss: 0.5922 - accuracy: 0.8488\n",
            "Epoch 42/50\n",
            "484/484 [==============================] - 4s 7ms/step - loss: 0.5884 - accuracy: 0.8494\n",
            "Epoch 43/50\n",
            "484/484 [==============================] - 4s 7ms/step - loss: 0.5821 - accuracy: 0.8497\n",
            "Epoch 44/50\n",
            "484/484 [==============================] - 4s 9ms/step - loss: 0.5849 - accuracy: 0.8495\n",
            "Epoch 45/50\n",
            "484/484 [==============================] - 4s 7ms/step - loss: 0.5835 - accuracy: 0.8474\n",
            "Epoch 46/50\n",
            "484/484 [==============================] - 4s 8ms/step - loss: 0.5754 - accuracy: 0.8490\n",
            "Epoch 47/50\n",
            "484/484 [==============================] - 4s 9ms/step - loss: 0.5756 - accuracy: 0.8484\n",
            "Epoch 48/50\n",
            "484/484 [==============================] - 4s 7ms/step - loss: 0.5663 - accuracy: 0.8497\n",
            "Epoch 49/50\n",
            "484/484 [==============================] - 3s 7ms/step - loss: 0.5705 - accuracy: 0.8487\n",
            "Epoch 50/50\n",
            "484/484 [==============================] - 4s 9ms/step - loss: 0.5685 - accuracy: 0.8494\n"
          ]
        }
      ],
      "source": [
        "# Get the untrained model\n",
        "model = create_model(total_words, max_sequence_len)\n",
        "\n",
        "# Train the model\n",
        "history = model.fit(features, labels, epochs=50, verbose=1)"
      ]
    },
    {
      "cell_type": "markdown",
      "metadata": {
        "id": "gy72RPgly55q"
      },
      "source": [
        "**To pass this assignment, your model should achieve a training accuracy of at least 80%**. If your model didn't achieve this threshold, try training again with a different model architecture, consider increasing the number of unit in your `LSTM` layer."
      ]
    },
    {
      "cell_type": "code",
      "execution_count": 29,
      "metadata": {
        "id": "1fXTEO3GJ282",
        "tags": [],
        "colab": {
          "base_uri": "https://localhost:8080/",
          "height": 545
        },
        "outputId": "80cde95f-3e6e-4484-db2c-0cffa169795f"
      },
      "outputs": [
        {
          "output_type": "display_data",
          "data": {
            "text/plain": [
              "<Figure size 432x288 with 1 Axes>"
            ],
            "image/png": "[encoded data removed]"
          },
          "metadata": {
            "needs_background": "light"
          }
        },
        {
          "output_type": "display_data",
          "data": {
            "text/plain": [
              "<Figure size 432x288 with 1 Axes>"
            ],
            "image/png": "[encoded data removed]"
          },
          "metadata": {
            "needs_background": "light"
          }
        }
      ],
      "source": [
        "# Take a look at the training curves of your model\n",
        "\n",
        "acc = history.history['accuracy']\n",
        "loss = history.history['loss']\n",
        "\n",
        "epochs = range(len(acc))\n",
        "\n",
        "plt.plot(epochs, acc, 'b', label='Training accuracy')\n",
        "plt.title('Training accuracy')\n",
        "\n",
        "plt.figure()\n",
        "\n",
        "plt.plot(epochs, loss, 'b', label='Training Loss')\n",
        "plt.title('Training loss')\n",
        "plt.legend()\n",
        "\n",
        "plt.show()"
      ]
    },
    {
      "cell_type": "markdown",
      "metadata": {
        "id": "OjvED5A3qrn2"
      },
      "source": [
        "Before closing the assignment, be sure to also download the `history.pkl` file which contains the information of the training history of your model and will be used to compute your grade. You can download this file by running the cell below:"
      ]
    },
    {
      "cell_type": "code",
      "execution_count": 30,
      "metadata": {
        "id": "9QRG73l6qE-c",
        "tags": [],
        "colab": {
          "base_uri": "https://localhost:8080/",
          "height": 17
        },
        "outputId": "13af3108-0854-4481-fa18-a1a3f9f5d154"
      },
      "outputs": [
        {
          "output_type": "display_data",
          "data": {
            "text/plain": [
              "<IPython.core.display.Javascript object>"
            ],
            "application/javascript": [
              "\n",
              "    async function download(id, filename, size) {\n",
              "      if (!google.colab.kernel.accessAllowed) {\n",
              "        return;\n",
              "      }\n",
              "      const div = document.createElement('div');\n",
              "      const label = document.createElement('label');\n",
              "      label.textContent = `Downloading \"${filename}\": `;\n",
              "      div.appendChild(label);\n",
              "      const progress = document.createElement('progress');\n",
              "      progress.max = size;\n",
              "      div.appendChild(progress);\n",
              "      document.body.appendChild(div);\n",
              "\n",
              "      const buffers = [];\n",
              "      let downloaded = 0;\n",
              "\n",
              "      const channel = await google.colab.kernel.comms.open(id);\n",
              "      // Send a message to notify the kernel that we're ready.\n",
              "      channel.send({})\n",
              "\n",
              "      for await (const message of channel.messages) {\n",
              "        // Send a message to notify the kernel that we're ready.\n",
              "        channel.send({})\n",
              "        if (message.buffers) {\n",
              "          for (const buffer of message.buffers) {\n",
              "            buffers.push(buffer);\n",
              "            downloaded += buffer.byteLength;\n",
              "            progress.value = downloaded;\n",
              "          }\n",
              "        }\n",
              "      }\n",
              "      const blob = new Blob(buffers, {type: 'application/binary'});\n",
              "      const a = document.createElement('a');\n",
              "      a.href = window.URL.createObjectURL(blob);\n",
              "      a.download = filename;\n",
              "      div.appendChild(a);\n",
              "      a.click();\n",
              "      div.remove();\n",
              "    }\n",
              "  "
            ]
          },
          "metadata": {}
        },
        {
          "output_type": "display_data",
          "data": {
            "text/plain": [
              "<IPython.core.display.Javascript object>"
            ],
            "application/javascript": [
              "download(\"download_c7eaea69-2884-4b61-afe2-c3b95d557469\", \"history.pkl\", 942)"
            ]
          },
          "metadata": {}
        }
      ],
      "source": [
        "def download_history():\n",
        "  import pickle\n",
        "  from google.colab import files\n",
        "\n",
        "  with open('history.pkl', 'wb') as f:\n",
        "    pickle.dump(history.history, f)\n",
        "\n",
        "  files.download('history.pkl')\n",
        "\n",
        "download_history()"
      ]
    },
    {
      "cell_type": "markdown",
      "metadata": {
        "id": "wdsMszk9zBs_"
      },
      "source": [
        "## See your model in action\n",
        "\n",
        "After all your work it is finally time to see your model generating text. \n",
        "\n",
        "Run the cell below to generate the next 100 words of a seed text.\n",
        "\n",
        "After submitting your assignment you are encouraged to try out training for different amounts of epochs and seeing how this affects the coherency of the generated text. Also try changing the seed text to see what you get!"
      ]
    },
    {
      "cell_type": "code",
      "execution_count": 31,
      "metadata": {
        "id": "6Vc6PHgxa6Hm",
        "tags": [],
        "colab": {
          "base_uri": "https://localhost:8080/"
        },
        "outputId": "5cd30092-8e10-4468-ba99-ab49310eb38a"
      },
      "outputs": [
        {
          "output_type": "stream",
          "name": "stdout",
          "text": [
            "Help me Obi Wan Kenobi, you're my only hope my good allow out treasure you chance detain not in their horse doth lie it cold prove come back again alone lie with me back again still shows thine was true needing wit corrupting drain'd me eye in me ' not me to others do it ere thee her old doth orphans new suited and view shall shine shall shine shine and prove eyes you distance leases object penury thus is well see less truth of men alack they see you both thee in me offenders thee i be so near less is false all thine heir more pen can\n"
          ]
        }
      ],
      "source": [
        "seed_text = \"Help me Obi Wan Kenobi, you're my only hope\"\n",
        "next_words = 100\n",
        "  \n",
        "for _ in range(next_words):\n",
        "    # Convert the text into sequences\n",
        "    token_list = tokenizer.texts_to_sequences([seed_text])[0]\n",
        "    # Pad the sequences\n",
        "    token_list = pad_sequences([token_list], maxlen=max_sequence_len-1, padding='pre')\n",
        "    # Get the probabilities of predicting a word\n",
        "    predicted = model.predict(token_list, verbose=0)\n",
        "    # Choose the next word based on the maximum probability\n",
        "    predicted = np.argmax(predicted, axis=-1).item()\n",
        "    # Get the actual word from the word index\n",
        "    output_word = tokenizer.index_word[predicted]\n",
        "    # Append to the current text\n",
        "    seed_text += \" \" + output_word\n",
        "\n",
        "print(seed_text)"
      ]
    },
    {
      "cell_type": "markdown",
      "metadata": {
        "id": "oQVDbdcYqSux"
      },
      "source": [
        "## Download your notebook for grading\n",
        "\n",
        "Along with the `history.pkl` file earlier, you will also need to submit your solution notebook for grading. The following code cells will check if this notebook's grader metadata (i.e. hidden data in the notebook needed for grading) is not modified by your workspace. This will ensure that the autograder can evaluate your code properly. Depending on its output, you will either:\n",
        "\n",
        "* *if the metadata is intact*: Download the current notebook. Click on the File tab on the upper left corner of the screen then click on `Download -> Download .ipynb.` You can name it anything you want as long as it is a valid `.ipynb` (jupyter notebook) file.\n",
        "<br>\n",
        "\n",
        "* *if the metadata is missing*: A new notebook with your solutions will be created on this Colab workspace. It should be downloaded automatically and you can submit that to the grader. "
      ]
    },
    {
      "cell_type": "code",
      "execution_count": 32,
      "metadata": {
        "id": "ZUEiIXZEShHw",
        "colab": {
          "base_uri": "https://localhost:8080/"
        },
        "outputId": "012d4fcc-c0cb-4a53-ffcf-5179e0070b5f"
      },
      "outputs": [
        {
          "output_type": "stream",
          "name": "stdout",
          "text": [
            "--2023-03-04 15:45:47--  https://storage.googleapis.com/tensorflow-1-public/colab_metadata_checker.py\n",
            "Resolving storage.googleapis.com (storage.googleapis.com)... 142.251.163.128, 142.251.16.128, 172.253.63.128, ...\n",
            "Connecting to storage.googleapis.com (storage.googleapis.com)|142.251.163.128|:443... connected.\n",
            "HTTP request sent, awaiting response... 200 OK\n",
            "Length: 1980 (1.9K) [text/x-python-script]\n",
            "Saving to: ‘colab_metadata_checker.py’\n",
            "\n",
            "\r          colab_met   0%[                    ]       0  --.-KB/s               \rcolab_metadata_chec 100%[===================>]   1.93K  --.-KB/s    in 0s      \n",
            "\n",
            "2023-03-04 15:45:47 (24.1 MB/s) - ‘colab_metadata_checker.py’ saved [1980/1980]\n",
            "\n"
          ]
        }
      ],
      "source": [
        "# Download metadata checker\n",
        "!wget -nc https://storage.googleapis.com/tensorflow-1-public/colab_metadata_checker.py"
      ]
    },
    {
      "cell_type": "code",
      "execution_count": 33,
      "metadata": {
        "id": "Ek87UXX7Sj6b",
        "colab": {
          "base_uri": "https://localhost:8080/"
        },
        "outputId": "bb485395-83e4-404c-9b79-dd92ac493c07"
      },
      "outputs": [
        {
          "output_type": "stream",
          "name": "stdout",
          "text": [
            "Grader metadata detected! You can download this notebook by clicking `File > Download > Download as .ipynb` and submit it to the grader!\n"
          ]
        }
      ],
      "source": [
        "import colab_metadata_checker\n",
        "\n",
        "# Please see the output of this cell to see which file you need to submit to the grader\n",
        "colab_metadata_checker.run('C3W4_Assignment_fixed.ipynb')"
      ]
    },
    {
      "cell_type": "markdown",
      "metadata": {
        "id": "EdjaU-gBPBPl"
      },
      "source": [
        "**Please disregard the following note if the notebook metadata is detected**\n",
        "\n",
        "_Note: Just in case the automatic download fails when the metadata is missing, you can also do these steps:_\n",
        "* _Click the Folder icon on the left side of this screen to open the File Manager._\n",
        "* _Click the Folder Refresh icon in the File Manager to see the latest files in the workspace. You should see a file ending with a `_fixed.ipynb`._\n",
        "* _Right-click on that file to save locally and submit it to the grader._"
      ]
    },
    {
      "cell_type": "markdown",
      "metadata": {
        "id": "6r-X-HXtSc8N"
      },
      "source": [
        "**Congratulations on finishing this week's assignment!**\n",
        "\n",
        "You have successfully implemented a neural network capable of predicting the next word in a sequence of text!\n",
        "\n",
        "**We hope to see you in the next course of the specialization! Keep it up!**"
      ]
    }
  ],
  "metadata": {
    "accelerator": "GPU",
    "colab": {
      "provenance": []
    },
    "dlai_version": "1.2.0",
    "jupytext": {
      "main_language": "python"
    },
    "kernelspec": {
      "display_name": "Python 3",
      "language": "python",
      "name": "python3"
    },
    "language_info": {
      "codemirror_mode": {
        "name": "ipython",
        "version": 3
      },
      "file_extension": ".py",
      "mimetype": "text/x-python",
      "name": "python",
      "nbconvert_exporter": "python",
      "pygments_lexer": "ipython3",
      "version": "3.7.4"
    }
  },
  "nbformat": 4,
  "nbformat_minor": 0
}